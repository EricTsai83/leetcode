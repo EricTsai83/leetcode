{
 "cells": [
  {
   "cell_type": "markdown",
   "id": "4bfab10e-37fd-49ab-afd6-e0acd8e75ab1",
   "metadata": {},
   "source": [
    "### Remove Nth Node From End of List\n",
    "* [Reference](https://leetcode.com/problems/remove-nth-node-from-end-of-list/)\n",
    "* Difficulty: Medium\n",
    "---"
   ]
  },
  {
   "cell_type": "markdown",
   "id": "47fa999d-e55e-42d5-80fd-51be53cc5169",
   "metadata": {},
   "source": [
    "### Rule\n",
    "* Given the head of a linked list, remove the nth node from the end of the list and return its head.\n",
    "---"
   ]
  },
  {
   "cell_type": "markdown",
   "id": "6ba7518d-7375-45aa-9eb7-3e589c7a1697",
   "metadata": {},
   "source": [
    "#### Example 1:\n",
    "![Demo](./Fig/question_019.jpg)\n",
    "```\n",
    "Input: head = [1,2,3,4,5], n = 2\n",
    "Output: [1,2,3,5]\n",
    "```\n",
    "#### Example 2:\n",
    "```\n",
    "Input: head = [1], n = 1\n",
    "Output: []\n",
    "```\n",
    "#### Example 3:\n",
    "```\n",
    "Input: head = [1,2], n = 1\n",
    "Output: [1]\n",
    "```\n",
    "---"
   ]
  },
  {
   "cell_type": "markdown",
   "id": "7e8d03c5-ebb0-4805-b145-27766e9a26c0",
   "metadata": {},
   "source": [
    "#### Constraints:\n",
    "* The number of nodes in the list is sz.\n",
    "* 1 <= sz <= 30\n",
    "* 0 <= Node.val <= 100\n",
    "* 1 <= n <= sz\n",
    "---"
   ]
  },
  {
   "cell_type": "markdown",
   "id": "cd375412-9257-45ff-8870-bd7497af66d9",
   "metadata": {},
   "source": [
    "Follow up: Could you do this in one pass?"
   ]
  },
  {
   "cell_type": "markdown",
   "id": "7cf89856-fead-4396-bc27-45b15b8bb4b7",
   "metadata": {},
   "source": [
    "### Solution\n",
    "#### For Leetcode"
   ]
  },
  {
   "cell_type": "code",
   "execution_count": 1,
   "id": "2b885ed1-6e8b-4383-b243-c25f9ec26707",
   "metadata": {
    "execution": {
     "iopub.execute_input": "2022-09-19T16:26:17.986987Z",
     "iopub.status.busy": "2022-09-19T16:26:17.985987Z",
     "iopub.status.idle": "2022-09-19T16:26:18.019982Z",
     "shell.execute_reply": "2022-09-19T16:26:18.018982Z",
     "shell.execute_reply.started": "2022-09-19T16:26:17.986987Z"
    },
    "tags": []
   },
   "outputs": [],
   "source": [
    "from typing import Optional"
   ]
  },
  {
   "cell_type": "code",
   "execution_count": 2,
   "id": "d61a4205-6751-4edd-bbce-7e74ed9a5336",
   "metadata": {
    "execution": {
     "iopub.execute_input": "2022-09-19T16:26:18.023986Z",
     "iopub.status.busy": "2022-09-19T16:26:18.021981Z",
     "iopub.status.idle": "2022-09-19T16:26:18.052976Z",
     "shell.execute_reply": "2022-09-19T16:26:18.050977Z",
     "shell.execute_reply.started": "2022-09-19T16:26:18.023986Z"
    },
    "tags": []
   },
   "outputs": [],
   "source": [
    "# Definition for singly-linked list.\n",
    "class ListNode:\n",
    "    def __init__(self, val=0, next=None):\n",
    "        self.val = val\n",
    "        self.next = None\n",
    "        \n",
    "class SingleLinkedList:\n",
    "    def __init__(self):\n",
    "        # 紀錄鏈上第一個和最後一個節點\n",
    "        self.head = None\n",
    "        self.tail = None\n",
    "        \n",
    "    def add_list_item(self, item):\n",
    "        # make sure item is a proper node\n",
    "        if not isinstance(item, ListNode):\n",
    "            item = ListNode(item)\n",
    "\n",
    "        if self.head is None:  # 如果是第一個節點\n",
    "            self.head = item  # 將 head 屬性設為 linked list 節點\n",
    "        else:\n",
    "            self.tail.next = item  # 如果鏈上已經有節點，透過 linked node 的 next，將要新增的節點加到鏈上\n",
    "\n",
    "        self.tail = item   # 將新的 linked node 賦值給 tail\n",
    "        \n",
    "linked_list = SingleLinkedList()\n",
    "for i in [1, 4, 5]:\n",
    "    linked_list.add_list_item(i)"
   ]
  },
  {
   "cell_type": "code",
   "execution_count": 3,
   "id": "ae184334-e3ec-4907-a50a-bc28cebdb5fa",
   "metadata": {
    "execution": {
     "iopub.execute_input": "2022-09-19T16:26:18.057976Z",
     "iopub.status.busy": "2022-09-19T16:26:18.056978Z",
     "iopub.status.idle": "2022-09-19T16:26:18.084972Z",
     "shell.execute_reply": "2022-09-19T16:26:18.080974Z",
     "shell.execute_reply.started": "2022-09-19T16:26:18.057976Z"
    },
    "tags": []
   },
   "outputs": [],
   "source": [
    "# Definition for singly-linked list.\n",
    "class ListNode:\n",
    "    def __init__(self, val=0, next=None):\n",
    "        self.val = val\n",
    "        self.next = None\n",
    "\n",
    "class Solution:\n",
    "    def removeNthFromEnd(self, head: Optional[ListNode], n: int) -> Optional[ListNode]:\n",
    "        dummy_head = ListNode(-1)\n",
    "        dummy_head.next = head\n",
    "        current_node = dummy_head\n",
    "        delay_node = dummy_head\n",
    "        idx = 0\n",
    "        # n 為多少 current node 就要領先多少\n",
    "        while current_node:\n",
    "            current_node = current_node.next\n",
    "            if idx > n:  # 讓一指針延後走，這樣可以在前面一個指針到終點時，取得要刪除的 node\n",
    "                delay_node = delay_node.next\n",
    "            idx += 1\n",
    "        delay_node.next = delay_node.next.next\n",
    "        return dummy_head.next"
   ]
  },
  {
   "cell_type": "code",
   "execution_count": 4,
   "id": "ccfbcc39-d577-457e-835a-8519d5812287",
   "metadata": {
    "execution": {
     "iopub.execute_input": "2022-09-19T16:26:18.090971Z",
     "iopub.status.busy": "2022-09-19T16:26:18.089971Z",
     "iopub.status.idle": "2022-09-19T16:26:18.117970Z",
     "shell.execute_reply": "2022-09-19T16:26:18.113968Z",
     "shell.execute_reply.started": "2022-09-19T16:26:18.090971Z"
    },
    "tags": []
   },
   "outputs": [],
   "source": [
    "def test_solution():\n",
    "    try:\n",
    "        linked_list = SingleLinkedList()\n",
    "        li = [1]\n",
    "        for i in li:\n",
    "            linked_list.add_list_item(i)\n",
    "        assert Solution().removeNthFromEnd(linked_list.head, n=1) == None\n",
    "        \n",
    "        linked_list = SingleLinkedList()\n",
    "        li = [1, 3, 5]\n",
    "        for i in li:\n",
    "            linked_list.add_list_item(i)\n",
    "        assert Solution().removeNthFromEnd(linked_list.head, n=2).val == 1\n",
    "        \n",
    "        li = [1, 3, 5]\n",
    "        for i in li:\n",
    "            linked_list.add_list_item(i)\n",
    "        assert Solution().removeNthFromEnd(linked_list.head, n=2).next.val == 5\n",
    "        \n",
    "        print(\"\\033[92m All tests passed.\")\n",
    "    except:\n",
    "        print(f'\\033[91m Input: {str(li)}\\n tests failed')"
   ]
  },
  {
   "cell_type": "code",
   "execution_count": 5,
   "id": "27e145bc-0fc9-4e35-990a-1f098a00ae41",
   "metadata": {
    "execution": {
     "iopub.execute_input": "2022-09-19T16:26:18.120968Z",
     "iopub.status.busy": "2022-09-19T16:26:18.119968Z",
     "iopub.status.idle": "2022-09-19T16:26:18.151962Z",
     "shell.execute_reply": "2022-09-19T16:26:18.145975Z",
     "shell.execute_reply.started": "2022-09-19T16:26:18.120968Z"
    },
    "tags": []
   },
   "outputs": [
    {
     "name": "stdout",
     "output_type": "stream",
     "text": [
      "\u001b[92m All tests passed.\n"
     ]
    }
   ],
   "source": [
    "test_solution()"
   ]
  },
  {
   "cell_type": "markdown",
   "id": "c5b2b307-c10e-4448-8d84-92d2d04c8711",
   "metadata": {},
   "source": [
    "### For Real World Problems\n",
    "Actually, I have no idea how to use. If someone knew, please tell me."
   ]
  }
 ],
 "metadata": {
  "kernelspec": {
   "display_name": "Python 3 (ipykernel)",
   "language": "python",
   "name": "python3"
  },
  "language_info": {
   "codemirror_mode": {
    "name": "ipython",
    "version": 3
   },
   "file_extension": ".py",
   "mimetype": "text/x-python",
   "name": "python",
   "nbconvert_exporter": "python",
   "pygments_lexer": "ipython3",
   "version": "3.10.4"
  }
 },
 "nbformat": 4,
 "nbformat_minor": 5
}
