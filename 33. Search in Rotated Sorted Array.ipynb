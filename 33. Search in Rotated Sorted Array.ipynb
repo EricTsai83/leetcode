{
 "cells": [
  {
   "cell_type": "markdown",
   "metadata": {},
   "source": [
    "### Merge k Sorted Lists\n",
    "* [Reference](https://leetcode.com/problems/search-in-rotated-sorted-array/description)\n",
    "* Difficulty: Medium\n",
    "---"
   ]
  },
  {
   "cell_type": "markdown",
   "metadata": {},
   "source": [
    "### Rule\n",
    "There is an integer array `nums` sorted in ascending order (with **distinct** values).\n",
    "\n",
    "Prior to being passed to your function, nums is **possibly rotated** at an unknown pivot index `k` (`1 <= k < nums.length`) such that the resulting array is `[nums[k], nums[k+1], ..., nums[n-1], nums[0], nums[1], ..., nums[k-1]]` (**0-indexed**). For example, `[0,1,2,4,5,6,7]` might be rotated at pivot index `3` and become `[4,5,6,7,0,1,2]`.\n",
    "\n",
    "Given the array `nums` **after** the possible rotation and an integer `target`, return the index of `target` if it is in `nums`, or `-1` if it is not in `nums`.\n",
    "\n",
    "You must write an algorithm with `O(log n)` runtime complexity.\n",
    "\n",
    "---"
   ]
  },
  {
   "cell_type": "markdown",
   "metadata": {},
   "source": [
    "#### Example 1:\n",
    "\n",
    "```\n",
    "Input: nums = [4,5,6,7,0,1,2], target = 0\n",
    "Output: 4\n",
    "```\n",
    "\n",
    "#### Example 2:\n",
    "\n",
    "```\n",
    "Input: nums = [4,5,6,7,0,1,2], target = 3\n",
    "Output: -1\n",
    "```\n",
    "\n",
    "#### Example 3:\n",
    "\n",
    "```\n",
    "Input: nums = [1], target = 0\n",
    "Output: -1\n",
    "```"
   ]
  },
  {
   "cell_type": "markdown",
   "metadata": {},
   "source": [
    "#### Constraints:\n",
    "\n",
    "* `1 <= nums.length <= 5000`\n",
    "* $-10^4$ <= nums[i] <= $10^4$\n",
    "* All values of `nums` are **unique**.\n",
    "* `nums` is an ascending array that is possibly rotated.\n",
    "* $-10^4$ <= target <= $10^4$"
   ]
  },
  {
   "cell_type": "markdown",
   "metadata": {},
   "source": [
    "### Solution\n",
    "#### For Leetcode"
   ]
  },
  {
   "cell_type": "code",
   "execution_count": null,
   "metadata": {},
   "outputs": [],
   "source": [
    "from typing import List"
   ]
  },
  {
   "cell_type": "code",
   "execution_count": null,
   "metadata": {},
   "outputs": [],
   "source": [
    "class Solution:\n",
    "    def search(self, nums: List[int], target: int) -> int:\n",
    "        # use binary search\n",
    "        l_index = 0\n",
    "        r_index = len(nums) -1\n",
    "\n",
    "        while l_index<=r_index:\n",
    "            mid_index = (l_index+r_index)//2\n",
    "            if nums[mid_index] == target: \n",
    "                return mid_index\n",
    "\n",
    "            # check if left half is sorted\n",
    "            elif nums[l_index] <= nums[mid_index]:\n",
    "                # answer in left side\n",
    "                if target >= nums[l_index] and target < nums[mid_index]:\n",
    "                    r_index = mid_index - 1\n",
    "                else:  # answer in right side\n",
    "                    l_index = mid_index + 1\n",
    "            # Otherwise, right half is sorted\n",
    "            else:\n",
    "                if target > nums[mid_index] and target <= nums[r_index]:\n",
    "                    l_index = mid_index + 1\n",
    "                else:\n",
    "                    r_index = mid_index - 1\n",
    "        return -1"
   ]
  }
 ],
 "metadata": {
  "language_info": {
   "name": "python"
  }
 },
 "nbformat": 4,
 "nbformat_minor": 2
}
