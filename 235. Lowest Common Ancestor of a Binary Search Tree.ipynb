{
 "cells": [
  {
   "cell_type": "markdown",
   "id": "8d82e97c-c0e6-44e3-9200-b30bcf0d813a",
   "metadata": {},
   "source": [
    "## Lowest Common Ancestor of a Binary Search Tree\n",
    "* [Reference](https://leetcode.com/problems/lowest-common-ancestor-of-a-binary-search-tree/)\n",
    "* Difficulty: Medium\n",
    "---"
   ]
  },
  {
   "cell_type": "markdown",
   "id": "ab5f9b53-a2f3-4adc-a73d-8198e556b24c",
   "metadata": {},
   "source": [
    "### Rule\n",
    "* Given a binary search tree (BST), find the lowest common ancestor (LCA) node of two given nodes in the BST.\n",
    "\n",
    "According to the [definition of LCA on Wikipedia](https://en.wikipedia.org/wiki/Lowest_common_ancestor): “The lowest common ancestor is defined between two nodes p and q as the lowest node in T that has both p and q as descendants (where we allow **a node to be a descendant of itself**).”\n",
    "\n",
    "---"
   ]
  },
  {
   "cell_type": "markdown",
   "id": "07ee814d-b97a-48e4-b5db-e5f9a4d6d720",
   "metadata": {
    "tags": []
   },
   "source": [
    "### Solution\n",
    "#### For Leetcode"
   ]
  },
  {
   "cell_type": "code",
   "execution_count": 3,
   "id": "8cc05430-d0c1-4ef5-8439-fbeb3fb0c33b",
   "metadata": {
    "execution": {
     "iopub.execute_input": "2022-10-07T06:28:27.721060Z",
     "iopub.status.busy": "2022-10-07T06:28:27.720062Z",
     "iopub.status.idle": "2022-10-07T06:28:27.775051Z",
     "shell.execute_reply": "2022-10-07T06:28:27.772052Z",
     "shell.execute_reply.started": "2022-10-07T06:28:27.720062Z"
    }
   },
   "outputs": [],
   "source": [
    "from typing import Optional"
   ]
  },
  {
   "cell_type": "markdown",
   "id": "e87a244c-a63b-4891-8443-12d072a172c5",
   "metadata": {
    "tags": []
   },
   "source": [
    "#### Example 1:\n",
    "![example1](./Fig/question_235_example1.png)\n",
    "```\n",
    "Input: root = [6,2,8,0,4,7,9,null,null,3,5], p = 2, q = 8\n",
    "Output: 6\n",
    "Explanation: The LCA of nodes 2 and 8 is 6.\n",
    "```\n",
    "#### Example 2:\n",
    "![example2](./Fig/question_235_example2.png)\n",
    "```\n",
    "Input: root = [6,2,8,0,4,7,9,null,null,3,5], p = 2, q = 4\n",
    "Output: 2\n",
    "Explanation: The LCA of nodes 2 and 4 is 2, since a node can be a descendant of itself according to the LCA definition.\n",
    "```\n",
    "#### Example 3:\n",
    "```\n",
    "Input: root = [2,1], p = 2, q = 1\n",
    "Output: 2\n",
    "```"
   ]
  },
  {
   "cell_type": "markdown",
   "id": "3a341f6a",
   "metadata": {},
   "source": [
    "### binary search tree\n",
    "1. 以左邊節點 ( left node ) 作為根的子樹 ( sub-tree ) 的所有值都小於根節點 ( root )\n",
    "2. 以右邊節點 ( right node ) 作為根的子樹 ( sub-tree ) 的所有值都大於根節點 ( root )\n",
    "3. 任意節點 ( node ) 的左、右子樹也分別符合 BST 的定義\n",
    "4. 不存在任何鍵值 ( key/value ) 相等的節點。"
   ]
  },
  {
   "cell_type": "code",
   "execution_count": 4,
   "id": "5b6f5f75-e9fd-4ea5-b58e-fa47b19c091e",
   "metadata": {
    "execution": {
     "iopub.execute_input": "2022-10-07T06:28:27.778052Z",
     "iopub.status.busy": "2022-10-07T06:28:27.777051Z",
     "iopub.status.idle": "2022-10-07T06:28:27.803047Z",
     "shell.execute_reply": "2022-10-07T06:28:27.801070Z",
     "shell.execute_reply.started": "2022-10-07T06:28:27.778052Z"
    }
   },
   "outputs": [],
   "source": [
    "# Definition for a binary tree node.\n",
    "class TreeNode:\n",
    "    def __init__(self, x):\n",
    "        self.val = x\n",
    "        self.left = None\n",
    "        self.right = None"
   ]
  },
  {
   "cell_type": "markdown",
   "id": "a03293c0",
   "metadata": {},
   "source": [
    "根據 binary search tree 的特性，我們可以知道，在特定 node 下，有以下三種情形可以判斷該 node 是不是 lowest common ancestor\n",
    "1. 當我們要找的兩個 node (p 和 q) value 都大於該 node 的 value 時，該 node 一定不會是 lowest common ancestor，且要往 right child 繼續檢查\n",
    "2. 當我們要找的兩個 node (p 和 q) value 都小於於該 node 的 value 時，該 node 一定不會是 lowest common ancestor，且要往 left child 繼續檢查\n",
    "3. 當兩個 node (p 和 q) 都不符合以上兩種狀況，也就是 p 和 q 的 value 分別大於小於或至少要等於該 node，則該 node 就是 lowest common ancestor"
   ]
  },
  {
   "cell_type": "code",
   "execution_count": 5,
   "id": "e9f69dd2-64ca-4276-a74f-7e5ebbb3524b",
   "metadata": {
    "execution": {
     "iopub.execute_input": "2022-10-07T06:28:27.809049Z",
     "iopub.status.busy": "2022-10-07T06:28:27.808047Z",
     "iopub.status.idle": "2022-10-07T06:28:27.834042Z",
     "shell.execute_reply": "2022-10-07T06:28:27.833042Z",
     "shell.execute_reply.started": "2022-10-07T06:28:27.808047Z"
    },
    "tags": []
   },
   "outputs": [],
   "source": [
    "class Solution:\n",
    "    def lowestCommonAncestor(self, root: 'TreeNode', p: 'TreeNode', q: 'TreeNode') -> 'TreeNode':\n",
    "        if root.val < min(p.val, q.val):\n",
    "            return self.lowestCommonAncestor(root.right, p, q)\n",
    "        elif root.val > max(p.val, q.val):\n",
    "            return self.lowestCommonAncestor(root.left, p, q)\n",
    "        else:\n",
    "            return root\n"
   ]
  },
  {
   "cell_type": "code",
   "execution_count": null,
   "id": "590fd5af",
   "metadata": {},
   "outputs": [],
   "source": []
  }
 ],
 "metadata": {
  "interpreter": {
   "hash": "31f2aee4e71d21fbe5cf8b01ff0e069b9275f58929596ceb00d14d90e3e16cd6"
  },
  "kernelspec": {
   "display_name": "Python 3.9.6 64-bit",
   "language": "python",
   "name": "python3"
  },
  "language_info": {
   "codemirror_mode": {
    "name": "ipython",
    "version": 3
   },
   "file_extension": ".py",
   "mimetype": "text/x-python",
   "name": "python",
   "nbconvert_exporter": "python",
   "pygments_lexer": "ipython3",
   "version": "3.9.6"
  }
 },
 "nbformat": 4,
 "nbformat_minor": 5
}
