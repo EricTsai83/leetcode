{
 "cells": [
  {
   "cell_type": "markdown",
   "id": "eec0e730-ce9a-401c-8369-e9a99b1a6226",
   "metadata": {},
   "source": [
    "### 3Sum\n",
    "* [Reference](https://leetcode.com/problems/3sum/)\n",
    "* Medium\n",
    "---\n",
    "Given an integer array nums, return all the triplets `[nums[i], nums[j], nums[k]]` such that `i != j`, `i != k`, and `j != k`, and `nums[i] + nums[j] + nums[k] == 0`.\n",
    "\n",
    "Notice that the solution set must not contain duplicate triplets.\n",
    "\n",
    "---\n",
    "\n",
    "#### Example 1:\n",
    "```\n",
    "Input: nums = [-1,0,1,2,-1,-4]\n",
    "Output: [[-1,-1,2],[-1,0,1]]\n",
    "```\n",
    "\n",
    "#### Example 2:\n",
    "```\n",
    "Input: nums = []\n",
    "Output: []\n",
    "```\n",
    "\n",
    "#### Example 3:\n",
    "```\n",
    "Input: nums = [0]\n",
    "Output: []\n",
    "```\n",
    "---\n",
    "\n",
    "#### Constraints:\n",
    "* 0 <= nums.length <= 3000\n",
    "* -105 <= nums[i] <= 105\n",
    "---"
   ]
  },
  {
   "cell_type": "markdown",
   "id": "4a536a50-5527-4aa9-ae8c-0f8b197d4aba",
   "metadata": {},
   "source": [
    "### Solution\n",
    "\n",
    "[[Reference]](https://zh.wikipedia.org/zh-tw/3SUM)\n",
    "\n",
    "The following example shows this algorithm's execution on a small sorted array. Current values of a are shown in red, values of b and c are shown in magenta.\n",
    "\n",
    "e1 | e2 | e3 | e4 | e5  | e6 | e7 | e8 | sum\n",
    "--------------:|-------:|------:|------:|-------:|------:|------:|------:|------:\n",
    "<span style=\"color:red;\">-25</span> | <span style=\"color:#E75480;\">-10</span> | -7 | -3 | 2 | 4 | 8 | <span style=\"color:#E75480;\">10</span> |(a+b+c==-25)\n",
    "<span style=\"color:red;\">-25</span> | -10 | <span style=\"color:#E75480;\">-7</span> | -3 | 2 | 4 | 8 | <span style=\"color:#E75480;\">10</span> | (a+b+c==-22)\n",
    "... | ... |  ... |  ... | ... | ...| ...  | ... | ...\n",
    "<span style=\"color:red;\">-25</span> | -10 | -7 | -3 | 2 | 4 | <span style=\"color:#E75480;\">8</span> | <span style=\"color:#E75480;\">10</span> |(a+b+c==-7)\n",
    "-25 | <span style=\"color:red;\">-10</span> | <span style=\"color:#E75480;\">-7</span> | -3 | 2 | 4 | 8 | <span style=\"color:#E75480;\">10</span> |(a+b+c==-7)\n",
    "-25 | <span style=\"color:red;\">-10</span> | -7 | <span style=\"color:#E75480;\">-3</span> | 2 | 4 | 8 | <span style=\"color:#E75480;\">10</span> |(a+b+c==-3)\n",
    "-25 | <span style=\"color:red;\">-10</span> | -7 | -3 | <span style=\"color:#E75480;\">2</span> | 4 | 8 | <span style=\"color:#E75480;\">10</span> |(a+b+c==2)\n",
    "-25 | <span style=\"color:red;\">-10</span> | -7 | -3 | <span style=\"color:#E75480;\">2</span> | 4 | <span style=\"color:#E75480;\">8</span> | 10 |(a+b+c==0)\n",
    "\n",
    "---"
   ]
  },
  {
   "cell_type": "markdown",
   "id": "cd093bb0-be67-4422-bf06-25e78570c85f",
   "metadata": {},
   "source": [
    "#### Algorithm\n",
    "##### input\n",
    "* nums: list[int]\n",
    "\n",
    "##### process\n",
    "1. 先對 nums 做小到大的排序\n",
    "2. 宣告變數\n",
    "```python\n",
    "res_li = []\n",
    "before_res = None\n",
    "max_idx = len(nums) - 1\n",
    "```\n",
    "3. 用 for 迴圈依序回傳 list 的 idx 和 each_num\n",
    "4. 宣告變數\n",
    "```python\n",
    "l_idx = idx + 1  # 左指針\n",
    "r_idx = max_idx  # 右指針\n",
    "```\n",
    "5. 如果 $^{[1]}$ 當下 idx 的值 `each_num` 與前一個 idx 的值相同，且 $^{[2]}$ 當下idx的值不是0，那就跳過這回合\n",
    "```\n",
    "    note: 因為這表示在前一回合，我們就已經透過雙指針的查找，找出該開頭值(each_num)情況下，所有我們要的集合了\n",
    "```\n",
    "6. 用中斷條件為 \n",
    "```python\n",
    "l_idx < r_idx  # 左指針要小於右指針\n",
    "```\n",
    "的 while 迴圈\n",
    "   * 定義一個陣列 `res` ，包含三指針下的值\n",
    "   *  \n",
    "```python\n",
    "if (sum(res) == 0) and (res != before_res)  # 第二個條件是為了排除開頭值(each_num)固定下，雙指針查找出的重複項\n",
    "```\n",
    "將 `res` append 到 `res_li` 當中，並宣告 `before_res` 為 `res`，最後讓左指針往右移一格\n",
    "   * \n",
    "```python\n",
    "if (sum(res) > 0)\n",
    "```\n",
    "的時候，當左指針的值大於等於右指針的值，左指針往右移一格，因為優先讓大的值變動，看有沒有機會變小，來符合我們要的結果\n",
    "反之，右指針往左移一格\n",
    "   * \n",
    "若以上條件都不滿足，代表\n",
    "```python\n",
    "(sum(res) < 0)\n",
    "```\n",
    "當左指針的值大於等於右指針的值，右指針往左移一格，因為優先讓小的值變動，看有沒有機會變大，來符合我們要的結果\n",
    "反之，左指針往右移一格\n",
    "   * 進行下一次的迭代\n",
    "   \n",
    "---"
   ]
  },
  {
   "cell_type": "code",
   "execution_count": 1,
   "id": "fafba55f-383f-43f6-9efe-84bf222230d7",
   "metadata": {
    "execution": {
     "iopub.execute_input": "2022-06-07T16:43:06.365229Z",
     "iopub.status.busy": "2022-06-07T16:43:06.364229Z",
     "iopub.status.idle": "2022-06-07T16:43:06.412222Z",
     "shell.execute_reply": "2022-06-07T16:43:06.411226Z",
     "shell.execute_reply.started": "2022-06-07T16:43:06.365229Z"
    },
    "tags": []
   },
   "outputs": [],
   "source": [
    "class Solution:\n",
    "    def threeSum(self, nums: list[int]) -> list[list[int]]:\n",
    "        nums.sort()\n",
    "        res_li = []\n",
    "        before_res = None\n",
    "        max_idx = len(nums) - 1\n",
    "        for idx, each_num in enumerate(nums):\n",
    "            l_idx = idx + 1\n",
    "            r_idx = max_idx\n",
    "            if (nums[idx-1] == each_num) and (idx>0):\n",
    "                continue\n",
    "                \n",
    "            while l_idx < r_idx:\n",
    "                res = [each_num, nums[l_idx], nums[r_idx]]\n",
    "                if (sum(res) == 0) and (res != before_res):\n",
    "                    res_li.append(res)\n",
    "                    before_res = res\n",
    "                    l_idx += 1\n",
    "                    \n",
    "                elif (sum(res) > 0):\n",
    "                    if (nums[l_idx] >= nums[r_idx]):\n",
    "                        l_idx += 1\n",
    "                    else:\n",
    "                        r_idx -= 1\n",
    "                else:\n",
    "                    if (nums[l_idx] >= nums[r_idx]):\n",
    "                        r_idx -= 1\n",
    "                    else:\n",
    "                        l_idx += 1\n",
    "            \n",
    "        return res_li"
   ]
  },
  {
   "cell_type": "code",
   "execution_count": 2,
   "id": "d0c4e71c-c67e-4f71-9412-7d82581b1afd",
   "metadata": {
    "execution": {
     "iopub.execute_input": "2022-06-07T16:43:06.418223Z",
     "iopub.status.busy": "2022-06-07T16:43:06.418223Z",
     "iopub.status.idle": "2022-06-07T16:43:06.445217Z",
     "shell.execute_reply": "2022-06-07T16:43:06.443221Z",
     "shell.execute_reply.started": "2022-06-07T16:43:06.418223Z"
    },
    "tags": []
   },
   "outputs": [],
   "source": [
    "def test_solution():\n",
    "    try:\n",
    "        nums = [-1,0,1,2,-1,-4]\n",
    "        output = [[-1,-1,2],[-1,0,1]]\n",
    "        set_output = [set(i) for i in output]\n",
    "        for i in Solution().threeSum(nums):\n",
    "            assert len(i) == 3\n",
    "            assert sum(i) == 0\n",
    "            assert set(i) in set_output\n",
    "        assert len(Solution().threeSum(nums)) == len(output)\n",
    "        \n",
    "        nums = []\n",
    "        output = []\n",
    "        assert Solution().threeSum(nums) == output\n",
    "        \n",
    "        nums = [0]\n",
    "        output = []\n",
    "        assert Solution().threeSum(nums) == output\n",
    "        \n",
    "        nums = [0,0,0]\n",
    "        output = [[0,0,0]]\n",
    "        assert Solution().threeSum(nums) == output\n",
    "        \n",
    "        nums = [-4,-2,-2,-2,0,1,2,2,2,3,3,4,4,6,6]\n",
    "        output = [[-4,-2,6],[-4,0,4],[-4,1,3],[-4,2,2],[-2,-2,4],[-2,0,2]]\n",
    "        set_output = [set(i) for i in output]\n",
    "        for i in Solution().threeSum(nums):\n",
    "            assert len(i) == 3\n",
    "            assert sum(i) == 0\n",
    "            assert set(i) in set_output\n",
    "        assert len(Solution().threeSum(nums)) == len(output)\n",
    "        \n",
    "        print(\"\\033[92m All tests passed.\")\n",
    "    except:\n",
    "        print(f'\\033[91m Input: {nums}\\n Output:{Solution().threeSum(nums)}\\n Expected: {output}')"
   ]
  },
  {
   "cell_type": "code",
   "execution_count": 3,
   "id": "a6d9f0af-0837-4c26-b6e3-9b06f26a1786",
   "metadata": {
    "execution": {
     "iopub.execute_input": "2022-06-07T16:43:06.448218Z",
     "iopub.status.busy": "2022-06-07T16:43:06.447216Z",
     "iopub.status.idle": "2022-06-07T16:43:06.478214Z",
     "shell.execute_reply": "2022-06-07T16:43:06.476211Z",
     "shell.execute_reply.started": "2022-06-07T16:43:06.448218Z"
    },
    "tags": []
   },
   "outputs": [
    {
     "name": "stdout",
     "output_type": "stream",
     "text": [
      "\u001b[92m All tests passed.\n"
     ]
    }
   ],
   "source": [
    "test_solution()"
   ]
  }
 ],
 "metadata": {
  "kernelspec": {
   "display_name": "Python 3 (ipykernel)",
   "language": "python",
   "name": "python3"
  },
  "language_info": {
   "codemirror_mode": {
    "name": "ipython",
    "version": 3
   },
   "file_extension": ".py",
   "mimetype": "text/x-python",
   "name": "python",
   "nbconvert_exporter": "python",
   "pygments_lexer": "ipython3",
   "version": "3.10.4"
  }
 },
 "nbformat": 4,
 "nbformat_minor": 5
}
