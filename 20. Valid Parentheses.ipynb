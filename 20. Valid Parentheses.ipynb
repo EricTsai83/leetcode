{
 "cells": [
  {
   "cell_type": "markdown",
   "metadata": {},
   "source": [
    "### Valid Parentheses\n",
    "* [Reference](https://leetcode.com/problems/valid-parentheses/description/?envType=list&envId=xoqag3yj)\n",
    "* Difficulty: Easy\n",
    "---"
   ]
  },
  {
   "cell_type": "markdown",
   "metadata": {},
   "source": [
    "### Rule\n",
    "Given a string s containing just the characters `'('`, `')'`, `'{'`, `'}'`, `'['` and `']'`, determine if the input string is valid.\n",
    "\n",
    "An input string is valid if:\n",
    "\n",
    "1. Open brackets must be closed by the same type of brackets.\n",
    "2. Open brackets must be closed in the correct order.\n",
    "3. Every close bracket has a corresponding open bracket of the same type.\n",
    "---"
   ]
  },
  {
   "cell_type": "markdown",
   "metadata": {},
   "source": [
    "#### Example 1:\n",
    "* Input: s = \"()\"\n",
    "* Output: true\n",
    "\n",
    "\n",
    "#### Example 2:\n",
    "* Input: s = \"()[]{}\"\n",
    "* Output: true\n",
    "\n",
    "#### Example 3:\n",
    "* Input: s = \"(]\"\n",
    "* Output: false\n",
    "\n",
    "---"
   ]
  },
  {
   "cell_type": "markdown",
   "metadata": {},
   "source": [
    "Constraints:\n",
    "\n",
    "* `1 <= s.length <= 104`\n",
    "* `s` consists of parentheses only `'()[]{}'`.\n",
    "\n",
    "---"
   ]
  },
  {
   "cell_type": "code",
   "execution_count": null,
   "metadata": {},
   "outputs": [],
   "source": [
    "class Solution(object):\n",
    "    def isValid(self, s):\n",
    "      # 可以觀察到題目是一個 後進先出的結構\n",
    "        stack = [] # only use append and pop\n",
    "        pairs = {\n",
    "            '(': ')',\n",
    "            '{': '}', \n",
    "            '[': ']'\n",
    "        }\n",
    "        for bracket in s:\n",
    "            if bracket in pairs:\n",
    "                stack.append(bracket)\n",
    "            elif len(stack) == 0 or bracket != pairs[stack.pop()]:\n",
    "                return False\n",
    "\n",
    "        return len(stack) == 0"
   ]
  }
 ],
 "metadata": {
  "language_info": {
   "name": "python"
  }
 },
 "nbformat": 4,
 "nbformat_minor": 2
}
