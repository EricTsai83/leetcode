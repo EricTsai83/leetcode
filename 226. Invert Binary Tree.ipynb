{
 "cells": [
  {
   "cell_type": "markdown",
   "id": "8dfdaaa2-2b0b-45c8-b0d2-0e7de633688b",
   "metadata": {},
   "source": [
    "### Invert Binary Tree\n",
    "* [Reference](https://leetcode.com/problems/invert-binary-tree/)\n",
    "* Difficulty: Easy\n",
    "---"
   ]
  },
  {
   "cell_type": "markdown",
   "id": "1497b16b-4cc1-4998-880d-79afd6f7a07d",
   "metadata": {},
   "source": [
    "### Rule\n",
    "* Given the root of a binary tree, invert the tree, and return its root.\n",
    "---"
   ]
  },
  {
   "cell_type": "markdown",
   "id": "1cd50cad-23cd-416d-8192-5199fb7b4f10",
   "metadata": {},
   "source": [
    "#### Example 1:\n",
    "![Demo](./Fig/question_226_example1.jpg)\n",
    "```\n",
    "Input: root = [4,2,7,1,3,6,9]\n",
    "Output: [4,7,2,9,6,3,1]\n",
    "```\n",
    "#### Example 2:\n",
    "![Demo](./Fig/question_226_example2.jpg)\n",
    "```\n",
    "Input: root = [2,1,3]\n",
    "Output: [2,3,1]\n",
    "```\n",
    "#### Example 3:\n",
    "```\n",
    "Input: root = []\n",
    "Output: []\n",
    "```\n",
    "---"
   ]
  },
  {
   "cell_type": "markdown",
   "id": "8f96833c-85e4-468a-875f-3380fcd78979",
   "metadata": {},
   "source": [
    "#### Constraints:\n",
    "* The number of nodes in the tree is in the range [0, 100].\n",
    "* -100 <= Node.val <= 100\n",
    "---"
   ]
  },
  {
   "cell_type": "markdown",
   "id": "400cc66f-7eec-4b3f-ba49-30ad0ef771bf",
   "metadata": {},
   "source": [
    "### Solution\n",
    "#### For Leetcode"
   ]
  },
  {
   "cell_type": "code",
   "execution_count": 1,
   "id": "f61d3e6e-ab33-4818-a5c3-315813f8e5ce",
   "metadata": {
    "execution": {
     "iopub.execute_input": "2022-09-29T14:48:45.990845Z",
     "iopub.status.busy": "2022-09-29T14:48:45.989850Z",
     "iopub.status.idle": "2022-09-29T14:48:46.030841Z",
     "shell.execute_reply": "2022-09-29T14:48:46.024843Z",
     "shell.execute_reply.started": "2022-09-29T14:48:45.990845Z"
    },
    "tags": []
   },
   "outputs": [],
   "source": [
    "from typing import Optional"
   ]
  },
  {
   "cell_type": "code",
   "execution_count": 2,
   "id": "6920e364-c391-416b-a176-e315787096d3",
   "metadata": {
    "execution": {
     "iopub.execute_input": "2022-09-29T14:48:46.035839Z",
     "iopub.status.busy": "2022-09-29T14:48:46.033839Z",
     "iopub.status.idle": "2022-09-29T14:48:46.056837Z",
     "shell.execute_reply": "2022-09-29T14:48:46.055837Z",
     "shell.execute_reply.started": "2022-09-29T14:48:46.034843Z"
    },
    "tags": []
   },
   "outputs": [],
   "source": [
    "# Definition for a binary tree node.\n",
    "class TreeNode:\n",
    "    def __init__(self, val=0, left=None, right=None):\n",
    "        self.val = val\n",
    "        self.left = left\n",
    "        self.right = right\n",
    "\n",
    "class Solution:\n",
    "    \"\"\"\n",
    "    Recursive\n",
    "    \"\"\"\n",
    "    def invertTree(self, root: TreeNode) -> TreeNode:\n",
    "        if not root:\n",
    "            return None\n",
    "        root.left, root.right = root.right, root.left\n",
    "        self.invertTree(root.left)\n",
    "        self.invertTree(root.right)\n",
    "        return root"
   ]
  },
  {
   "cell_type": "markdown",
   "id": "bc998f0b-47d8-4119-ae28-69d976ef23db",
   "metadata": {},
   "source": [
    "### Testing "
   ]
  },
  {
   "cell_type": "code",
   "execution_count": 3,
   "id": "528bc94a-a9ba-414d-a402-5f33a1760a61",
   "metadata": {
    "execution": {
     "iopub.execute_input": "2022-09-29T14:48:46.061835Z",
     "iopub.status.busy": "2022-09-29T14:48:46.060836Z",
     "iopub.status.idle": "2022-09-29T14:48:46.088832Z",
     "shell.execute_reply": "2022-09-29T14:48:46.087831Z",
     "shell.execute_reply.started": "2022-09-29T14:48:46.061835Z"
    },
    "tags": []
   },
   "outputs": [
    {
     "name": "stdout",
     "output_type": "stream",
     "text": [
      "The tree is a complete binary tree\n"
     ]
    }
   ],
   "source": [
    "# Checking if a binary tree is a complete binary tree in C\n",
    "class Node:\n",
    "    def __init__(self, item):\n",
    "        self.val = item\n",
    "        self.left = None\n",
    "        self.right = None\n",
    "\n",
    "# Count the number of nodes\n",
    "def count_nodes(root):\n",
    "    if root is None:\n",
    "        return 0\n",
    "    return (1 + count_nodes(root.left) + count_nodes(root.right))\n",
    "\n",
    "# Check if the tree is complete binary tree\n",
    "def is_complete(root, index, numberNodes):\n",
    "    # Check if the tree is empty\n",
    "    if root is None:\n",
    "        return True\n",
    "    if index >= numberNodes:\n",
    "        return False\n",
    "    return (is_complete(root.left, 2 * index + 1, numberNodes)\n",
    "            and is_complete(root.right, 2 * index + 2, numberNodes))\n",
    "\n",
    "def create_binary_tree():\n",
    "    root = Node(1)\n",
    "    root.left = Node(2)\n",
    "    root.right = Node(3)\n",
    "    root.left.left = Node(4)\n",
    "    root.left.right = Node(5)\n",
    "    root.right.left = Node(6)\n",
    "    return root\n",
    "\n",
    "root = create_binary_tree()\n",
    "node_count = count_nodes(root)\n",
    "index = 0\n",
    "\n",
    "if is_complete(root, index, node_count):\n",
    "    print(\"The tree is a complete binary tree\")\n",
    "else:\n",
    "    print(\"The tree is not a complete binary tree\")"
   ]
  },
  {
   "cell_type": "code",
   "execution_count": 4,
   "id": "4a2cf914-a633-4358-b71b-6f7b51679edb",
   "metadata": {
    "execution": {
     "iopub.execute_input": "2022-09-29T14:48:46.094833Z",
     "iopub.status.busy": "2022-09-29T14:48:46.094833Z",
     "iopub.status.idle": "2022-09-29T14:48:46.200813Z",
     "shell.execute_reply": "2022-09-29T14:48:46.199813Z",
     "shell.execute_reply.started": "2022-09-29T14:48:46.094833Z"
    },
    "tags": []
   },
   "outputs": [
    {
     "name": "stdout",
     "output_type": "stream",
     "text": [
      "Binary tree from list : \n",
      "    __1__\n",
      "   /     \\\n",
      "  2       3\n",
      " / \\     /\n",
      "4   5   6\n",
      "\n"
     ]
    }
   ],
   "source": [
    "from binarytree import build\n",
    "  \n",
    "# List of nodes\n",
    "nodes =[1, 2, 3, 4, 5, 6]\n",
    "  \n",
    "# Building the binary tree\n",
    "binary_tree = build(nodes)\n",
    "print('Binary tree from list :', binary_tree)"
   ]
  },
  {
   "cell_type": "code",
   "execution_count": 5,
   "id": "d28c4369-1327-418d-adf0-a663578909bd",
   "metadata": {
    "execution": {
     "iopub.execute_input": "2022-09-29T14:48:46.203815Z",
     "iopub.status.busy": "2022-09-29T14:48:46.202813Z",
     "iopub.status.idle": "2022-09-29T14:48:46.233808Z",
     "shell.execute_reply": "2022-09-29T14:48:46.231817Z",
     "shell.execute_reply.started": "2022-09-29T14:48:46.203815Z"
    },
    "tags": []
   },
   "outputs": [],
   "source": [
    "def test_solution():\n",
    "    try:\n",
    "        root = create_binary_tree()\n",
    "        res = Solution().invertTree(root).val\n",
    "        ans = 1\n",
    "        assert res == ans\n",
    "        \n",
    "        root = create_binary_tree()\n",
    "        res = Solution().invertTree(root).left.val\n",
    "        ans = 3\n",
    "        assert res == ans\n",
    "        \n",
    "        root = create_binary_tree()\n",
    "        res = Solution().invertTree(root).right.val\n",
    "        ans = 2\n",
    "        assert res == ans\n",
    "        \n",
    "        root = create_binary_tree()\n",
    "        try:\n",
    "            res = Solution().invertTree(root).left.left.val\n",
    "        except AttributeError:\n",
    "            assert True\n",
    "        \n",
    "        root = create_binary_tree()\n",
    "        res = Solution().invertTree(root).left.right.val\n",
    "        ans = 6\n",
    "        assert res == ans\n",
    "        \n",
    "        root = create_binary_tree()\n",
    "        res = Solution().invertTree(root).right.left.val\n",
    "        ans = 5\n",
    "        assert res == ans\n",
    "        \n",
    "        print(\"\\033[92m All tests passed.\")\n",
    "        \n",
    "    except:\n",
    "        print(f'\\033[91m Result: {res}\\n Ans: {ans}\\n tests failed')"
   ]
  },
  {
   "cell_type": "code",
   "execution_count": 6,
   "id": "731ee803-a450-4a06-b79c-34c77b014782",
   "metadata": {
    "execution": {
     "iopub.execute_input": "2022-09-29T14:48:46.236809Z",
     "iopub.status.busy": "2022-09-29T14:48:46.235810Z",
     "iopub.status.idle": "2022-09-29T14:48:46.252806Z",
     "shell.execute_reply": "2022-09-29T14:48:46.247806Z",
     "shell.execute_reply.started": "2022-09-29T14:48:46.236809Z"
    },
    "tags": []
   },
   "outputs": [
    {
     "name": "stdout",
     "output_type": "stream",
     "text": [
      "\u001b[92m All tests passed.\n"
     ]
    }
   ],
   "source": [
    "test_solution()"
   ]
  },
  {
   "cell_type": "markdown",
   "id": "9390e294-cd74-4d9e-bcc9-2fa7d49b38fd",
   "metadata": {},
   "source": [
    "### The other funny solution"
   ]
  },
  {
   "cell_type": "code",
   "execution_count": 7,
   "id": "5f8896e0-f678-4314-b363-df8f6b420358",
   "metadata": {
    "execution": {
     "iopub.execute_input": "2022-09-29T14:48:46.256808Z",
     "iopub.status.busy": "2022-09-29T14:48:46.255807Z",
     "iopub.status.idle": "2022-09-29T14:48:46.282800Z",
     "shell.execute_reply": "2022-09-29T14:48:46.278802Z",
     "shell.execute_reply.started": "2022-09-29T14:48:46.256808Z"
    },
    "tags": []
   },
   "outputs": [],
   "source": [
    "class Solution:\n",
    "    \"\"\"\n",
    "    Use the list's pop method to get TreeNode and remove it from the list simultaneously.\n",
    "    Change its sub node right to left and vice versa.\n",
    "    \"\"\"\n",
    "    def invertTree(self, root: Optional[TreeNode]) -> Optional[TreeNode]:\n",
    "        li = [root]\n",
    "        while li:\n",
    "            node = li.pop()  # remove the last element and return it\n",
    "            if node:\n",
    "                node.left, node.right = node.right, node.left\n",
    "                li += node.left, node.right\n",
    "        return root"
   ]
  },
  {
   "cell_type": "markdown",
   "id": "45a6eb19-1c97-459a-9185-4bb6c555212b",
   "metadata": {},
   "source": [
    "### Use a specialized container which provided by collections to solve the problem\n",
    "[[collections]](https://docs.python.org/3/library/collections.html)\n",
    "[[deque]](https://docs.python.org/zh-tw/3/library/collections.html#collections.deque)"
   ]
  },
  {
   "cell_type": "code",
   "execution_count": 8,
   "id": "032740d9-7c1e-4df0-8bec-f63c6a6d2622",
   "metadata": {
    "execution": {
     "iopub.execute_input": "2022-09-29T14:48:46.286803Z",
     "iopub.status.busy": "2022-09-29T14:48:46.285800Z",
     "iopub.status.idle": "2022-09-29T14:48:46.296800Z",
     "shell.execute_reply": "2022-09-29T14:48:46.294799Z",
     "shell.execute_reply.started": "2022-09-29T14:48:46.286803Z"
    }
   },
   "outputs": [],
   "source": [
    "from collections import deque"
   ]
  },
  {
   "cell_type": "code",
   "execution_count": 9,
   "id": "df6543fa-82bf-4948-a83a-94a7abb377a2",
   "metadata": {
    "execution": {
     "iopub.execute_input": "2022-09-29T14:48:46.299799Z",
     "iopub.status.busy": "2022-09-29T14:48:46.299799Z",
     "iopub.status.idle": "2022-09-29T14:48:46.326793Z",
     "shell.execute_reply": "2022-09-29T14:48:46.325794Z",
     "shell.execute_reply.started": "2022-09-29T14:48:46.299799Z"
    },
    "tags": []
   },
   "outputs": [],
   "source": [
    "class Solution:\n",
    "    \"\"\"\n",
    "    The idea is that we need to swap the left and right child of all nodes in the tree.\n",
    "    So we create a queue to store nodes whose left and right child have not been swapped yet.\n",
    "    Initially, only the root is in the queue. As long as the queue is not empty,\n",
    "    remove the next node from the queue, swap its children, and add the children to\n",
    "    the queue. Null nodes are not added to the queue. Eventually, the queue will be\n",
    "    empty and all the children swapped, and we return the original root.\n",
    "    \"\"\"\n",
    "    def invertTree(self, root: Optional[TreeNode]) -> Optional[TreeNode]:\n",
    "        if not root:\n",
    "            return None\n",
    "        \n",
    "        queue = collections.deque([root])\n",
    "        while queue:\n",
    "            current = queue.popleft()\n",
    "            current.left, current.right = current.right, current.left\n",
    "            \n",
    "            if current.left:\n",
    "                queue.append(current.left)\n",
    "            \n",
    "            if current.right:\n",
    "                queue.append(current.right)\n",
    "        \n",
    "        return root"
   ]
  }
 ],
 "metadata": {
  "kernelspec": {
   "display_name": "Python 3 (ipykernel)",
   "language": "python",
   "name": "python3"
  },
  "language_info": {
   "codemirror_mode": {
    "name": "ipython",
    "version": 3
   },
   "file_extension": ".py",
   "mimetype": "text/x-python",
   "name": "python",
   "nbconvert_exporter": "python",
   "pygments_lexer": "ipython3",
   "version": "3.10.4"
  }
 },
 "nbformat": 4,
 "nbformat_minor": 5
}
