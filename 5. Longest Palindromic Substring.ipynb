{
 "cells": [
  {
   "cell_type": "markdown",
   "id": "4bfab10e-37fd-49ab-afd6-e0acd8e75ab1",
   "metadata": {},
   "source": [
    "### Longest Palindromic Substring\n",
    "* [Reference](https://leetcode.com/problems/longest-palindromic-substring/)\n",
    "* Difficulty: Medium\n",
    "---"
   ]
  },
  {
   "cell_type": "markdown",
   "id": "47fa999d-e55e-42d5-80fd-51be53cc5169",
   "metadata": {},
   "source": [
    "### Rule\n",
    "* Given a string `s`, return the longest palindromic substring in `s`.\n",
    "---"
   ]
  },
  {
   "cell_type": "markdown",
   "id": "6ba7518d-7375-45aa-9eb7-3e589c7a1697",
   "metadata": {},
   "source": [
    "#### Example 1:\n",
    "```\n",
    "Input: s = \"babad\"\n",
    "Output: \"bab\"\n",
    "Explanation: \"aba\" is also a valid answer.\n",
    "```\n",
    "\n",
    "#### Example 2:\n",
    "```\n",
    "Input: s = \"cbbd\"\n",
    "Output: \"bb\"\n",
    "```\n",
    "---"
   ]
  },
  {
   "cell_type": "markdown",
   "id": "7e8d03c5-ebb0-4805-b145-27766e9a26c0",
   "metadata": {},
   "source": [
    "#### Constraints:\n",
    "* 1 <= s.length <= 1000\n",
    "* s consist of only digits and English letters.\n",
    "---"
   ]
  },
  {
   "cell_type": "markdown",
   "id": "7cf89856-fead-4396-bc27-45b15b8bb4b7",
   "metadata": {},
   "source": [
    "### Solution\n",
    "#### For Leetcode"
   ]
  },
  {
   "cell_type": "code",
   "execution_count": 1,
   "id": "ae184334-e3ec-4907-a50a-bc28cebdb5fa",
   "metadata": {
    "execution": {
     "iopub.execute_input": "2022-05-28T18:49:40.120920Z",
     "iopub.status.busy": "2022-05-28T18:49:40.120920Z",
     "iopub.status.idle": "2022-05-28T18:49:40.163913Z",
     "shell.execute_reply": "2022-05-28T18:49:40.162916Z",
     "shell.execute_reply.started": "2022-05-28T18:49:40.120920Z"
    },
    "tags": []
   },
   "outputs": [],
   "source": [
    "class Solution:\n",
    "    def longestPalindrome(self, s: str):\n",
    "        hash_table = {}\n",
    "        idx = 0\n",
    "        longest_res = s[0]\n",
    "        res = s[0]\n",
    "        while idx < len(s):\n",
    "            if s[idx] not in hash_table:\n",
    "                hash_table[s[idx]] = [idx]\n",
    "            else:\n",
    "                for val_idx in hash_table[s[idx]]:\n",
    "                    middle_idx = val_idx+(idx-val_idx)//2\n",
    "                    if (idx-val_idx+1)%2==1:\n",
    "                        if s[val_idx:middle_idx] == s[middle_idx+1:idx+1][::-1]:\n",
    "                            res = s[val_idx:idx+1]\n",
    "                            break\n",
    "                    else:  # (idx-val_idx+1)%2==0\n",
    "                        if s[val_idx:middle_idx+1] == s[middle_idx+1:idx+1][::-1]:\n",
    "                            res = s[val_idx:idx+1]\n",
    "                            break\n",
    "                hash_table[s[idx]].extend([idx])\n",
    "                \n",
    "            if len(longest_res) < len(res):\n",
    "                longest_res = res\n",
    "            idx += 1   \n",
    "        return longest_res"
   ]
  },
  {
   "cell_type": "code",
   "execution_count": 2,
   "id": "4ed57d3c-f4f9-44c5-848e-3f954fede796",
   "metadata": {
    "execution": {
     "iopub.execute_input": "2022-05-28T18:49:40.167913Z",
     "iopub.status.busy": "2022-05-28T18:49:40.166912Z",
     "iopub.status.idle": "2022-05-28T18:49:40.195910Z",
     "shell.execute_reply": "2022-05-28T18:49:40.194929Z",
     "shell.execute_reply.started": "2022-05-28T18:49:40.167913Z"
    },
    "tags": []
   },
   "outputs": [],
   "source": [
    "class Solution:\n",
    "    def longestPalindrome(self, s):\n",
    "        if len(s) == 0:\n",
    "            return 0\n",
    "        maxLen = 1\n",
    "        start = 0\n",
    "        for i in range(len(s)):\n",
    "            if i - maxLen >= 1 and s[i-maxLen-1:i+1] == s[i-maxLen-1:i+1][::-1]:\n",
    "                start = i - maxLen-1\n",
    "                maxLen += 2\n",
    "                continue\n",
    "\n",
    "            if i - maxLen >= 0 and s[i-maxLen:i+1] == s[i-maxLen:i+1][::-1]:\n",
    "                start = i - maxLen\n",
    "                maxLen += 1\n",
    "        return s[start:start+maxLen]"
   ]
  },
  {
   "cell_type": "code",
   "execution_count": 3,
   "id": "ccfbcc39-d577-457e-835a-8519d5812287",
   "metadata": {
    "execution": {
     "iopub.execute_input": "2022-05-28T18:49:40.197910Z",
     "iopub.status.busy": "2022-05-28T18:49:40.197910Z",
     "iopub.status.idle": "2022-05-28T18:49:40.227902Z",
     "shell.execute_reply": "2022-05-28T18:49:40.226905Z",
     "shell.execute_reply.started": "2022-05-28T18:49:40.197910Z"
    },
    "tags": []
   },
   "outputs": [],
   "source": [
    "def test_solution():\n",
    "    try:\n",
    "        s = 'tattarrattat'\n",
    "        assert Solution().longestPalindrome(s) == 'tattarrattat'\n",
    "        s = 'aacabdkacaa'\n",
    "        assert Solution().longestPalindrome(s) == 'aca'\n",
    "        s = 'wtattarrattatg'\n",
    "        assert Solution().longestPalindrome(s) == 'tattarrattat'\n",
    "        s = 'babad'\n",
    "        assert Solution().longestPalindrome(s) == 'bab'\n",
    "        s = 'cbbd'\n",
    "        assert Solution().longestPalindrome(s) == 'bb'\n",
    "        s = 'a'\n",
    "        assert Solution().longestPalindrome(s) == 'a'\n",
    "        s = 'bb'\n",
    "        assert Solution().longestPalindrome(s) == 'bb'\n",
    "        s = 'ccc'\n",
    "        assert Solution().longestPalindrome(s) == 'ccc'\n",
    "        s = 'aaaa'\n",
    "        assert Solution().longestPalindrome(s) == 'aaaa'\n",
    "        s = 'aaaab'\n",
    "        assert Solution().longestPalindrome(s) == 'aaaa'\n",
    "        s = 'aaaaa'\n",
    "        assert Solution().longestPalindrome(s) == 'aaaaa'\n",
    "        print(\"\\033[92m All tests passed.\")\n",
    "    except:\n",
    "        print(f'\\033[91m Input: {s}\\n Output:{Solution().longestPalindrome(s)}\\n tests failed')"
   ]
  },
  {
   "cell_type": "code",
   "execution_count": 4,
   "id": "27e145bc-0fc9-4e35-990a-1f098a00ae41",
   "metadata": {
    "execution": {
     "iopub.execute_input": "2022-05-28T18:49:40.229902Z",
     "iopub.status.busy": "2022-05-28T18:49:40.229902Z",
     "iopub.status.idle": "2022-05-28T18:49:40.243900Z",
     "shell.execute_reply": "2022-05-28T18:49:40.242900Z",
     "shell.execute_reply.started": "2022-05-28T18:49:40.229902Z"
    },
    "tags": []
   },
   "outputs": [
    {
     "name": "stdout",
     "output_type": "stream",
     "text": [
      "\u001b[92m All tests passed.\n"
     ]
    }
   ],
   "source": [
    "test_solution()"
   ]
  },
  {
   "cell_type": "markdown",
   "id": "c5b2b307-c10e-4448-8d84-92d2d04c8711",
   "metadata": {},
   "source": [
    "### For Real World Problems\n",
    "Actually, I have no idea how to use. If someone knew, please tell me."
   ]
  }
 ],
 "metadata": {
  "interpreter": {
   "hash": "31f2aee4e71d21fbe5cf8b01ff0e069b9275f58929596ceb00d14d90e3e16cd6"
  },
  "kernelspec": {
   "display_name": "Python 3.9.6 64-bit",
   "language": "python",
   "name": "python3"
  },
  "language_info": {
   "codemirror_mode": {
    "name": "ipython",
    "version": 3
   },
   "file_extension": ".py",
   "mimetype": "text/x-python",
   "name": "python",
   "nbconvert_exporter": "python",
   "pygments_lexer": "ipython3",
   "version": "3.9.6"
  }
 },
 "nbformat": 4,
 "nbformat_minor": 5
}
