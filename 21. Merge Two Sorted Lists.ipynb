{
 "cells": [
  {
   "cell_type": "markdown",
   "metadata": {},
   "source": [
    "### Merge Two Sorted Lists\n",
    "* [Reference](https://leetcode.com/problems/merge-two-sorted-lists/description/?envType=list&envId=xoqag3yj)\n",
    "* Difficulty: Easy\n",
    "---"
   ]
  },
  {
   "cell_type": "markdown",
   "metadata": {},
   "source": [
    "### Rule\n",
    "* You are given the heads of two sorted linked lists list1 and list2.\n",
    "* Merge the two lists into one sorted list. The list should be made by splicing together the nodes of the first two lists.\n",
    "* Return the head of the merged linked list.\n",
    "\n",
    "---"
   ]
  },
  {
   "cell_type": "markdown",
   "metadata": {},
   "source": [
    "#### Example 1:\n",
    "![question_21_example1](./Fig/question_21_example1.jpg)\n",
    "```\n",
    "Input: list1 = [1,2,4], list2 = [1,3,4]\n",
    "Output: [1,1,2,3,4,4]\n",
    "```\n",
    "#### Example 2:\n",
    "```\n",
    "Input: list1 = [], list2 = []\n",
    "Output: []\n",
    "```\n",
    "#### Example 3:\n",
    "```\n",
    "Input: list1 = [], list2 = [0]\n",
    "Output: [0]\n",
    "```\n"
   ]
  },
  {
   "cell_type": "markdown",
   "metadata": {},
   "source": [
    "#### Constraints:\n",
    "* The number of nodes in both lists is in the range `[0, 50]`.\n",
    "* `-100 <= Node.val <= 100`\n",
    "* Both `list1` and `list2` are sorted in **non-decreasing** order.\n",
    "---"
   ]
  },
  {
   "cell_type": "markdown",
   "metadata": {},
   "source": [
    "### Solution\n",
    "#### For Leetcode"
   ]
  },
  {
   "cell_type": "code",
   "execution_count": null,
   "metadata": {},
   "outputs": [],
   "source": [
    "from typing import Optional"
   ]
  },
  {
   "cell_type": "code",
   "execution_count": null,
   "metadata": {},
   "outputs": [],
   "source": [
    "# Definition for singly-linked list.\n",
    "class ListNode:\n",
    "    def __init__(self, val=0, next=None):\n",
    "        self.val = val\n",
    "        self.next = next\n",
    "class Solution:\n",
    "    def mergeTwoLists(self, list1: Optional[ListNode], list2: \n",
    "      [ListNode]) -> Optional[ListNode]:\n",
    "        cur = dummy = ListNode()\n",
    "\n",
    "        while list1 and list2:  \n",
    "          if list1.val > list2.val:\n",
    "            cur.next = list2\n",
    "            list2, cur = list2.next, list2\n",
    "          else:\n",
    "            cur.next = list1\n",
    "            list1, cur = list1.next, list1\n",
    "\n",
    "        if list1 or list2:\n",
    "            cur.next = list1 if list1 else list2\n",
    "        \n",
    "        return dummy.next\n",
    "          "
   ]
  }
 ],
 "metadata": {
  "language_info": {
   "name": "python"
  }
 },
 "nbformat": 4,
 "nbformat_minor": 2
}
