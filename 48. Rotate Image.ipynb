{
 "cells": [
  {
   "cell_type": "markdown",
   "metadata": {},
   "source": [
    "### Rotate Image\n",
    "* [Reference](https://leetcode.com/problems/rotate-image/description/)\n",
    "* Difficulty: Medium\n",
    "---"
   ]
  },
  {
   "cell_type": "markdown",
   "metadata": {},
   "source": [
    "### Rule\n",
    "You are given an n x n 2D matrix representing an image, rotate the image by 90 degrees (clockwise).\n",
    "\n",
    "You have to rotate the image [in-place](https://en.wikipedia.org/wiki/In-place_algorithm), which means you have to modify the input 2D matrix directly. **DO NOT** allocate another 2D matrix and do the rotation.\n",
    "\n",
    "---"
   ]
  },
  {
   "cell_type": "markdown",
   "metadata": {},
   "source": [
    "#### Example 1:\n",
    "<img src=\"./Fig/queation_048_example1.jpg\" alt=\"queation_048_example1\" width=\"500\"/>\n",
    "\n",
    "```\n",
    "Input: matrix = [[1,2,3],[4,5,6],[7,8,9]]\n",
    "Output: [[7,4,1],[8,5,2],[9,6,3]]\n",
    "```\n",
    "\n",
    "#### Example 2:\n",
    "<img src=\"./Fig/queation_048_example2.jpg\" alt=\"queation_048_example2\" width=\"500\"/>\n",
    "\n",
    "```\n",
    "Input: matrix = [[5,1,9,11],[2,4,8,10],[13,3,6,7],[15,14,12,16]]\n",
    "Output: [[15,13,2,5],[14,3,4,1],[12,6,8,9],[16,7,10,11]]\n",
    "```"
   ]
  },
  {
   "cell_type": "markdown",
   "metadata": {},
   "source": [
    "#### Constraints:\n",
    "* n == matrix.length == matrix[i].length\n",
    "* 1 <= n <= 20\n",
    "* -1000 <= matrix[i][j] <= 1000\n",
    "---"
   ]
  },
  {
   "cell_type": "markdown",
   "metadata": {},
   "source": [
    "### Solution\n",
    "#### For Leetcode"
   ]
  },
  {
   "cell_type": "markdown",
   "metadata": {},
   "source": [
    "<img src=\"./Fig/draft_48.png\" alt=\"draft_48\" width=\"500\"/>"
   ]
  },
  {
   "cell_type": "code",
   "execution_count": null,
   "metadata": {},
   "outputs": [],
   "source": [
    "from typing import List"
   ]
  },
  {
   "cell_type": "code",
   "execution_count": null,
   "metadata": {},
   "outputs": [],
   "source": [
    "class Solution:\n",
    "    def rotate(self, matrix: List[List[int]]) -> None:\n",
    "        \"\"\"\n",
    "        Do not return anything, modify matrix in-place instead.\n",
    "        \"\"\"\n",
    "        length = len(matrix)\n",
    "        layers = length//2 + length % 2\n",
    "        for row in range(layers):\n",
    "            for column in range(row, length-row-1):\n",
    "                (\n",
    "                    matrix[row][column],\n",
    "                    matrix[column][length-1-row],\n",
    "                    matrix[length-1-row][length-1-column],\n",
    "                    matrix[length-1-column][row]\n",
    "                ) = (\n",
    "                    matrix[length-1-column][row],\n",
    "                    matrix[row][column],\n",
    "                    matrix[column][length-1-row],\n",
    "                    matrix[length-1-row][length-1-column]\n",
    "                )"
   ]
  }
 ],
 "metadata": {
  "language_info": {
   "name": "python"
  }
 },
 "nbformat": 4,
 "nbformat_minor": 2
}
