{
 "cells": [
  {
   "cell_type": "markdown",
   "id": "eb975c51",
   "metadata": {},
   "source": [
    "### Two Sum\n",
    "* [Reference](https://leetcode.com/problems/two-sum/)\n",
    "* Difficulty: Easy\n",
    "---"
   ]
  },
  {
   "cell_type": "markdown",
   "id": "fc425fa1",
   "metadata": {},
   "source": [
    "### Rule\n",
    "* Given an array of integers nums and an integer target, return indices of the two numbers such that they add up to target.\n",
    "* You may assume that each input would have exactly one solution, and you may not use the same element twice.\n",
    "* You can return the answer in any order.\n",
    "---"
   ]
  },
  {
   "cell_type": "markdown",
   "id": "4bdd2e66",
   "metadata": {},
   "source": [
    "#### Example 1:\n",
    "```\n",
    "Input: nums = [2,7,11,15], target = 9\n",
    "Output: [0,1]\n",
    "Explanation: Because nums[0] + nums[1] == 9, we return [0, 1].\n",
    "```\n",
    "\n",
    "#### Example 2:\n",
    "```\n",
    "Input: nums = [3,2,4], target = 6\n",
    "Output: [1,2]\n",
    "```\n",
    "\n",
    "#### Example 3:\n",
    "```\n",
    "Input: nums = [3,3], target = 6\n",
    "Output: [0,1]\n",
    "```\n",
    "---"
   ]
  },
  {
   "cell_type": "markdown",
   "id": "ec6f589d",
   "metadata": {},
   "source": [
    "#### Constraints:\n",
    "* 2 <= nums.length <= 104\n",
    "* -109 <= nums[i] <= 109\n",
    "* -109 <= target <= 109\n",
    "* **Only one valid answer exists.**\n",
    "---"
   ]
  },
  {
   "cell_type": "markdown",
   "id": "39fa8739",
   "metadata": {},
   "source": [
    "Follow-up: Can you come up with an algorithm that is less than O(n2) time complexity?"
   ]
  },
  {
   "cell_type": "markdown",
   "id": "a16d6778",
   "metadata": {},
   "source": [
    "### Solution\n",
    "#### For Leetcode"
   ]
  },
  {
   "cell_type": "code",
   "execution_count": 1,
   "id": "ebbebe1a",
   "metadata": {
    "execution": {
     "iopub.execute_input": "2022-02-19T12:55:13.748268Z",
     "iopub.status.busy": "2022-02-19T12:55:13.747268Z",
     "iopub.status.idle": "2022-02-19T12:55:13.783261Z",
     "shell.execute_reply": "2022-02-19T12:55:13.782286Z",
     "shell.execute_reply.started": "2022-02-19T12:55:13.747268Z"
    },
    "tags": []
   },
   "outputs": [],
   "source": [
    "class Solution:\n",
    "    def twoSum(self, nums, target):\n",
    "        \"\"\"\n",
    "        :type nums: List[int]\n",
    "        :type target: int\n",
    "        :rtype: List[int]\n",
    "        \"\"\"\n",
    "        i = 0\n",
    "        nums_len = len(nums)\n",
    "        while i < nums_len:\n",
    "            j = i + 1\n",
    "            while j < nums_len:\n",
    "                if nums[i] + nums[j] != target:\n",
    "                    j+=1\n",
    "                else:\n",
    "                    return i, j\n",
    "            i+=1\n",
    "        else:\n",
    "            print('Input was wrong.')"
   ]
  },
  {
   "cell_type": "markdown",
   "id": "745426a0",
   "metadata": {},
   "source": [
    "The bad solution. I just use it to understand how bad it is."
   ]
  },
  {
   "cell_type": "code",
   "execution_count": 2,
   "id": "9bb5a91d",
   "metadata": {
    "execution": {
     "iopub.execute_input": "2022-02-19T12:55:13.787263Z",
     "iopub.status.busy": "2022-02-19T12:55:13.785262Z",
     "iopub.status.idle": "2022-02-19T12:55:13.802260Z",
     "shell.execute_reply": "2022-02-19T12:55:13.798260Z",
     "shell.execute_reply.started": "2022-02-19T12:55:13.787263Z"
    },
    "tags": []
   },
   "outputs": [],
   "source": [
    "class Solution:\n",
    "    def twoSum(self, nums, target):\n",
    "        \"\"\"\n",
    "        :type nums: List[int]\n",
    "        :type target: int\n",
    "        :rtype: List[int]\n",
    "        \"\"\"\n",
    "        k = 0\n",
    "        for i in nums:\n",
    "            k += 1\n",
    "            if target - i in nums[k:]:\n",
    "                return(k - 1, nums[k:].index(target - i) + k)"
   ]
  },
  {
   "cell_type": "markdown",
   "id": "a267c99d",
   "metadata": {},
   "source": [
    "You can reduce the look-up time from O(n) to O(1) by using [Hash table](https://en.wikipedia.org/wiki/Hash_table)(trade space for speed).\n",
    "Hash table is a structure that can map keys to values. Just like Python dictionary.\n",
    "So you can set the element which are in the list to key. And each value are element position(index) in the list. "
   ]
  },
  {
   "cell_type": "code",
   "execution_count": 3,
   "id": "3d23df6b",
   "metadata": {
    "execution": {
     "iopub.execute_input": "2022-02-19T12:55:13.807263Z",
     "iopub.status.busy": "2022-02-19T12:55:13.805262Z",
     "iopub.status.idle": "2022-02-19T12:55:13.832255Z",
     "shell.execute_reply": "2022-02-19T12:55:13.831257Z",
     "shell.execute_reply.started": "2022-02-19T12:55:13.807263Z"
    },
    "tags": []
   },
   "outputs": [],
   "source": [
    "class Solution:\n",
    "    def twoSum(self, nums, target):\n",
    "        \"\"\"\n",
    "        :type nums: List[int]\n",
    "        :type target: int\n",
    "        :rtype: List[int]\n",
    "        \"\"\"\n",
    "        hash_table={}\n",
    "        for i in range(len(nums)):    # 先做一個 hash table\n",
    "            hash_table[nums[i]]=i  # 轉換成值跟 index 的字典\n",
    "        for i in range(len(nums)):\n",
    "            if target-nums[i] in hash_table:\n",
    "                if hash_table[target-nums[i]] != i:  # 符合的 target 是當前element的值，則不算\n",
    "                    return [i, hash_table[target-nums[i]]]\n",
    "        return []"
   ]
  },
  {
   "cell_type": "markdown",
   "id": "a3bf2096",
   "metadata": {},
   "source": [
    "You can build a hash table while looking for the results, avoiding the need to add an if statement, which excludes the current element to become the result. Also, if the program quickly finds the answer in the beginning or middle of the loop, it will be a bit of a waste and memory to build the hash table at one time."
   ]
  },
  {
   "cell_type": "code",
   "execution_count": 4,
   "id": "b21b0c02",
   "metadata": {
    "execution": {
     "iopub.execute_input": "2022-02-19T12:55:13.835254Z",
     "iopub.status.busy": "2022-02-19T12:55:13.834276Z",
     "iopub.status.idle": "2022-02-19T12:55:13.864316Z",
     "shell.execute_reply": "2022-02-19T12:55:13.861316Z",
     "shell.execute_reply.started": "2022-02-19T12:55:13.835254Z"
    },
    "tags": []
   },
   "outputs": [],
   "source": [
    "class Solution:\n",
    "    def twoSum(self, nums, target):\n",
    "        \"\"\"\n",
    "        :type nums: List[int]\n",
    "        :type target: int\n",
    "        :rtype: List[int]\n",
    "        \"\"\"\n",
    "        hash_table = {}\n",
    "        for i, num in enumerate(nums):\n",
    "            if target - num in hash_table:\n",
    "                return [hash_table[target - num], i]\n",
    "            hash_table[num] = i\n",
    "        return []"
   ]
  },
  {
   "cell_type": "code",
   "execution_count": 5,
   "id": "c1117be4",
   "metadata": {
    "execution": {
     "iopub.execute_input": "2022-02-19T12:55:13.866315Z",
     "iopub.status.busy": "2022-02-19T12:55:13.865316Z",
     "iopub.status.idle": "2022-02-19T12:55:13.909308Z",
     "shell.execute_reply": "2022-02-19T12:55:13.908308Z",
     "shell.execute_reply.started": "2022-02-19T12:55:13.866315Z"
    },
    "tags": []
   },
   "outputs": [
    {
     "data": {
      "text/plain": [
       "[0, 1]"
      ]
     },
     "execution_count": 5,
     "metadata": {},
     "output_type": "execute_result"
    }
   ],
   "source": [
    "nums = [2,7,11,15]\n",
    "target = 9\n",
    "Solution().twoSum(nums, target)"
   ]
  },
  {
   "cell_type": "code",
   "execution_count": 6,
   "id": "b66d4a8d",
   "metadata": {
    "execution": {
     "iopub.execute_input": "2022-02-19T12:55:13.911310Z",
     "iopub.status.busy": "2022-02-19T12:55:13.911310Z",
     "iopub.status.idle": "2022-02-19T12:55:13.942332Z",
     "shell.execute_reply": "2022-02-19T12:55:13.940332Z",
     "shell.execute_reply.started": "2022-02-19T12:55:13.911310Z"
    },
    "tags": []
   },
   "outputs": [
    {
     "data": {
      "text/plain": [
       "[1, 2]"
      ]
     },
     "execution_count": 6,
     "metadata": {},
     "output_type": "execute_result"
    }
   ],
   "source": [
    "nums = [3,2,4]\n",
    "target = 6\n",
    "Solution().twoSum(nums, target)"
   ]
  },
  {
   "cell_type": "code",
   "execution_count": 7,
   "id": "96c7ad86",
   "metadata": {
    "execution": {
     "iopub.execute_input": "2022-02-19T12:55:13.947330Z",
     "iopub.status.busy": "2022-02-19T12:55:13.946330Z",
     "iopub.status.idle": "2022-02-19T12:55:13.975326Z",
     "shell.execute_reply": "2022-02-19T12:55:13.972342Z",
     "shell.execute_reply.started": "2022-02-19T12:55:13.947330Z"
    },
    "tags": []
   },
   "outputs": [
    {
     "data": {
      "text/plain": [
       "[0, 1]"
      ]
     },
     "execution_count": 7,
     "metadata": {},
     "output_type": "execute_result"
    }
   ],
   "source": [
    "nums = [3,3,11,15]\n",
    "target = 6\n",
    "Solution().twoSum(nums, target)"
   ]
  },
  {
   "cell_type": "markdown",
   "id": "86d3a9b6",
   "metadata": {},
   "source": [
    "### For Real World Problems"
   ]
  },
  {
   "cell_type": "code",
   "execution_count": 8,
   "id": "b2df37f0",
   "metadata": {
    "execution": {
     "iopub.execute_input": "2022-02-19T12:55:13.978326Z",
     "iopub.status.busy": "2022-02-19T12:55:13.977328Z",
     "iopub.status.idle": "2022-02-19T12:55:14.005320Z",
     "shell.execute_reply": "2022-02-19T12:55:14.004320Z",
     "shell.execute_reply.started": "2022-02-19T12:55:13.978326Z"
    },
    "tags": []
   },
   "outputs": [],
   "source": [
    "class ListUtils:\n",
    "    def twoSum(self, nums, target):\n",
    "        \"\"\"\n",
    "        Input: \n",
    "        1. nums: A list of number\n",
    "        2. target: It is what number do you need to get from sum of two number in the list.\n",
    "        Output: A list that contains two index elements. It helps you get two numbers that sum will equal to the target.\n",
    "        Note: You may assume that each input would have exactly one solution, and you may not use the same element twice.\n",
    "        \"\"\"\n",
    "        hash_table = {}\n",
    "        for i, num in enumerate(nums):\n",
    "            if target - num in hash_table:\n",
    "                return [hash_table[target - num], i]\n",
    "            hash_table[num] = i\n",
    "        return []"
   ]
  }
 ],
 "metadata": {
  "kernelspec": {
   "display_name": "Python 3 (ipykernel)",
   "language": "python",
   "name": "python3"
  },
  "language_info": {
   "codemirror_mode": {
    "name": "ipython",
    "version": 3
   },
   "file_extension": ".py",
   "mimetype": "text/x-python",
   "name": "python",
   "nbconvert_exporter": "python",
   "pygments_lexer": "ipython3",
   "version": "3.10.4"
  }
 },
 "nbformat": 4,
 "nbformat_minor": 5
}
