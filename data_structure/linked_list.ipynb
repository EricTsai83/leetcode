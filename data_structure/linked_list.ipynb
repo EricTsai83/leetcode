{
 "cells": [
  {
   "cell_type": "markdown",
   "id": "e9cdae41-347e-4040-ab57-b486cffbca4f",
   "metadata": {
    "execution": {
     "iopub.execute_input": "2022-02-20T07:17:51.573775Z",
     "iopub.status.busy": "2022-02-20T07:17:51.573775Z",
     "iopub.status.idle": "2022-02-20T07:17:51.588773Z",
     "shell.execute_reply": "2022-02-20T07:17:51.586773Z",
     "shell.execute_reply.started": "2022-02-20T07:17:51.573775Z"
    }
   },
   "source": [
    "## Linked list\n",
    "[Reference](https://en.wikipedia.org/wiki/Linked_list)\n",
    "##### <u>Description:</u>\n",
    ">In computer science, a linked list is a linear collection of data elements whose order is not given by their physical placement in memory. Instead, each element points to the next. It is a data structure consisting of a collection of nodes which together represent a sequence. In its most basic form, each node contains: data, and a reference (in other words, a link) to the next node in the sequence. This structure allows for efficient insertion or removal of elements from any position in the sequence during iteration. More complex variants add additional links, allowing more efficient insertion or removal of nodes at arbitrary positions. A drawback of linked lists is that access time is linear (and difficult to pipeline). Faster access, such as random access, is not feasible. Arrays have better cache locality compared to linked lists.\n",
    "##### <u>Advantages:</u>\n",
    ">The principal benefit of a linked list over a conventional array is that **the list elements can be easily inserted or removed without reallocation or reorganization of the entire structure because the data items need not be stored contiguously in memory or on disk**, while restructuring an array at run-time is a much more expensive operation. Linked lists allow insertion and removal of nodes at any point in the list, and allow doing so with a constant number of operations by keeping the link previous to the link being added or removed in memory during list traversal.   \n",
    "##### <u>Disadvantages:</u>\n",
    ">On the other hand, since simple linked lists by themselves **do not allow random access to the data or any form of efficient indexing**, many basic operations—such as obtaining the last node of the list, finding a node that contains a given datum, or locating the place where a new node should be inserted—may require iterating through most or all of the list elements."
   ]
  },
  {
   "cell_type": "markdown",
   "id": "48666989-f2d4-4af4-be77-7087a84a4ea0",
   "metadata": {},
   "source": [
    "##### Use python create linked list"
   ]
  },
  {
   "cell_type": "markdown",
   "id": "d3162543-6a20-48b9-96c0-8a40506a55e0",
   "metadata": {},
   "source": [
    "1. ListNode"
   ]
  },
  {
   "cell_type": "code",
   "execution_count": 1,
   "id": "2c6637a9-3ceb-4ff2-b2c2-12e79faa8dd1",
   "metadata": {
    "execution": {
     "iopub.execute_input": "2022-08-08T14:49:51.150365Z",
     "iopub.status.busy": "2022-08-08T14:49:51.150365Z",
     "iopub.status.idle": "2022-08-08T14:49:51.203357Z",
     "shell.execute_reply": "2022-08-08T14:49:51.201360Z",
     "shell.execute_reply.started": "2022-08-08T14:49:51.150365Z"
    },
    "tags": []
   },
   "outputs": [],
   "source": [
    "# Definition for singly-linked list.\n",
    "class ListNode:\n",
    "    def __init__(self, val=0, next=None): \n",
    "        # store data\n",
    "        self.val = val\n",
    "        # store the reference (next item)\n",
    "        self.next = next"
   ]
  },
  {
   "cell_type": "markdown",
   "id": "4a2fa25c-3a43-4786-9670-ba22f3bfd444",
   "metadata": {},
   "source": [
    "Create a node which contains integer 83"
   ]
  },
  {
   "cell_type": "code",
   "execution_count": 2,
   "id": "5e4d2450-2df8-48d0-952b-4798cfb76628",
   "metadata": {
    "execution": {
     "iopub.execute_input": "2022-08-08T14:49:52.292460Z",
     "iopub.status.busy": "2022-08-08T14:49:52.291457Z",
     "iopub.status.idle": "2022-08-08T14:49:52.318456Z",
     "shell.execute_reply": "2022-08-08T14:49:52.317451Z",
     "shell.execute_reply.started": "2022-08-08T14:49:52.292460Z"
    },
    "tags": []
   },
   "outputs": [
    {
     "data": {
      "text/plain": [
       "83"
      ]
     },
     "execution_count": 2,
     "metadata": {},
     "output_type": "execute_result"
    }
   ],
   "source": [
    "node1 = ListNode(83)\n",
    "node1.val"
   ]
  },
  {
   "cell_type": "code",
   "execution_count": 3,
   "id": "ea03382e-40e0-4605-8ff7-149871c99f11",
   "metadata": {
    "execution": {
     "iopub.execute_input": "2022-08-08T14:49:59.469371Z",
     "iopub.status.busy": "2022-08-08T14:49:59.468370Z",
     "iopub.status.idle": "2022-08-08T14:49:59.485368Z",
     "shell.execute_reply": "2022-08-08T14:49:59.483370Z",
     "shell.execute_reply.started": "2022-08-08T14:49:59.469371Z"
    },
    "tags": []
   },
   "outputs": [],
   "source": [
    "node1.next"
   ]
  },
  {
   "cell_type": "markdown",
   "id": "8d6ea837-fbb0-4964-a1e7-edb0c5d385a3",
   "metadata": {},
   "source": [
    "2. Single Linked-list"
   ]
  },
  {
   "cell_type": "code",
   "execution_count": 4,
   "id": "4dda7736-b8fc-430d-ac0a-d4a2d5b20ce8",
   "metadata": {
    "execution": {
     "iopub.execute_input": "2022-08-08T14:50:03.477381Z",
     "iopub.status.busy": "2022-08-08T14:50:03.476378Z",
     "iopub.status.idle": "2022-08-08T14:50:03.495374Z",
     "shell.execute_reply": "2022-08-08T14:50:03.494378Z",
     "shell.execute_reply.started": "2022-08-08T14:50:03.477381Z"
    },
    "tags": []
   },
   "outputs": [],
   "source": [
    "class SingleLinkedList:\n",
    "    def __init__(self): \n",
    "        self.head = None\n",
    "        self.tail = None\n",
    "        \n",
    "    def add_list_item(self, item):\n",
    "        # make sure item is a proper node\n",
    "        if not isinstance(item, ListNode):\n",
    "            item = ListNode(item)\n",
    "\n",
    "        if self.head is None:\n",
    "            self.head = item\n",
    "        else:\n",
    "            self.tail.next = item\n",
    "\n",
    "        self.tail = item"
   ]
  },
  {
   "cell_type": "markdown",
   "id": "073eb199-891c-49d2-a7a4-6020a73eeee1",
   "metadata": {
    "execution": {
     "iopub.execute_input": "2022-02-20T14:28:16.953058Z",
     "iopub.status.busy": "2022-02-20T14:28:16.953058Z",
     "iopub.status.idle": "2022-02-20T14:28:16.969051Z",
     "shell.execute_reply": "2022-02-20T14:28:16.967050Z",
     "shell.execute_reply.started": "2022-02-20T14:28:16.953058Z"
    }
   },
   "source": [
    "Initialize singly linked list"
   ]
  },
  {
   "cell_type": "code",
   "execution_count": 5,
   "id": "c7f11637-865e-4eb9-b8aa-98aea05b2afa",
   "metadata": {
    "execution": {
     "iopub.execute_input": "2022-08-08T14:50:05.416377Z",
     "iopub.status.busy": "2022-08-08T14:50:05.415377Z",
     "iopub.status.idle": "2022-08-08T14:50:05.433385Z",
     "shell.execute_reply": "2022-08-08T14:50:05.432376Z",
     "shell.execute_reply.started": "2022-08-08T14:50:05.415377Z"
    },
    "tags": []
   },
   "outputs": [],
   "source": [
    "list1 = SingleLinkedList()"
   ]
  },
  {
   "cell_type": "markdown",
   "id": "4975dbd1-0e3f-49e2-bfed-f5d81973a0ce",
   "metadata": {},
   "source": [
    "Add node in to singly linked list"
   ]
  },
  {
   "cell_type": "code",
   "execution_count": 6,
   "id": "dcbecbf8-8aaa-43ce-944c-4e7f5ca938b9",
   "metadata": {
    "execution": {
     "iopub.execute_input": "2022-08-08T14:50:18.235390Z",
     "iopub.status.busy": "2022-08-08T14:50:18.235390Z",
     "iopub.status.idle": "2022-08-08T14:50:18.256386Z",
     "shell.execute_reply": "2022-08-08T14:50:18.255407Z",
     "shell.execute_reply.started": "2022-08-08T14:50:18.235390Z"
    },
    "tags": []
   },
   "outputs": [],
   "source": [
    "list1.add_list_item(node1)"
   ]
  },
  {
   "cell_type": "markdown",
   "id": "12dfdc26-709c-4a0e-9950-41265768e476",
   "metadata": {},
   "source": [
    "If input not a node, convert it to node."
   ]
  },
  {
   "cell_type": "code",
   "execution_count": 7,
   "id": "ddbc2dc9-0dc2-4c25-999f-6a352c4e2bd8",
   "metadata": {
    "execution": {
     "iopub.execute_input": "2022-08-08T14:50:49.548250Z",
     "iopub.status.busy": "2022-08-08T14:50:49.546253Z",
     "iopub.status.idle": "2022-08-08T14:50:49.559249Z",
     "shell.execute_reply": "2022-08-08T14:50:49.557252Z",
     "shell.execute_reply.started": "2022-08-08T14:50:49.548250Z"
    },
    "tags": []
   },
   "outputs": [],
   "source": [
    "list1.add_list_item(12)"
   ]
  },
  {
   "cell_type": "code",
   "execution_count": 8,
   "id": "a81093f1-1d0b-4f1d-b5c5-ae764d8594f2",
   "metadata": {
    "execution": {
     "iopub.execute_input": "2022-08-08T14:50:50.157414Z",
     "iopub.status.busy": "2022-08-08T14:50:50.156412Z",
     "iopub.status.idle": "2022-08-08T14:50:50.164412Z",
     "shell.execute_reply": "2022-08-08T14:50:50.162414Z",
     "shell.execute_reply.started": "2022-08-08T14:50:50.157414Z"
    },
    "tags": []
   },
   "outputs": [],
   "source": [
    "list1.add_list_item(36)"
   ]
  },
  {
   "cell_type": "markdown",
   "id": "1a68876d-b8e9-40a8-8fc8-47cc964fd054",
   "metadata": {},
   "source": [
    "Return value in singly linked list"
   ]
  },
  {
   "cell_type": "code",
   "execution_count": 9,
   "id": "d2eab20e-e21d-4126-97bb-800c9c3141d6",
   "metadata": {
    "execution": {
     "iopub.execute_input": "2022-08-08T14:50:57.339421Z",
     "iopub.status.busy": "2022-08-08T14:50:57.338422Z",
     "iopub.status.idle": "2022-08-08T14:50:57.355422Z",
     "shell.execute_reply": "2022-08-08T14:50:57.353416Z",
     "shell.execute_reply.started": "2022-08-08T14:50:57.339421Z"
    },
    "tags": []
   },
   "outputs": [
    {
     "data": {
      "text/plain": [
       "83"
      ]
     },
     "execution_count": 9,
     "metadata": {},
     "output_type": "execute_result"
    }
   ],
   "source": [
    "val1 = list1.head\n",
    "val1.val"
   ]
  },
  {
   "cell_type": "code",
   "execution_count": 10,
   "id": "624f1de3-6574-432f-aa97-21eb9d37b3d9",
   "metadata": {
    "execution": {
     "iopub.execute_input": "2022-08-08T14:51:17.205435Z",
     "iopub.status.busy": "2022-08-08T14:51:17.204434Z",
     "iopub.status.idle": "2022-08-08T14:51:17.224430Z",
     "shell.execute_reply": "2022-08-08T14:51:17.222433Z",
     "shell.execute_reply.started": "2022-08-08T14:51:17.205435Z"
    },
    "tags": []
   },
   "outputs": [
    {
     "data": {
      "text/plain": [
       "12"
      ]
     },
     "execution_count": 10,
     "metadata": {},
     "output_type": "execute_result"
    }
   ],
   "source": [
    "val2 = val1.next\n",
    "val2.val"
   ]
  },
  {
   "cell_type": "code",
   "execution_count": 11,
   "id": "242db051-c7f8-462b-98bc-ff7e4f5a37ab",
   "metadata": {
    "execution": {
     "iopub.execute_input": "2022-08-08T14:51:19.081390Z",
     "iopub.status.busy": "2022-08-08T14:51:19.080389Z",
     "iopub.status.idle": "2022-08-08T14:51:19.103389Z",
     "shell.execute_reply": "2022-08-08T14:51:19.102408Z",
     "shell.execute_reply.started": "2022-08-08T14:51:19.081390Z"
    },
    "tags": []
   },
   "outputs": [
    {
     "data": {
      "text/plain": [
       "36"
      ]
     },
     "execution_count": 11,
     "metadata": {},
     "output_type": "execute_result"
    }
   ],
   "source": [
    "val3 = val2.next\n",
    "val3.val"
   ]
  },
  {
   "cell_type": "code",
   "execution_count": 12,
   "id": "3b418fe1-043b-4286-bf61-2fafb2c1788d",
   "metadata": {
    "execution": {
     "iopub.execute_input": "2022-08-08T14:51:24.581444Z",
     "iopub.status.busy": "2022-08-08T14:51:24.580445Z",
     "iopub.status.idle": "2022-08-08T14:51:24.601437Z",
     "shell.execute_reply": "2022-08-08T14:51:24.600437Z",
     "shell.execute_reply.started": "2022-08-08T14:51:24.580445Z"
    },
    "tags": []
   },
   "outputs": [
    {
     "data": {
      "text/plain": [
       "36"
      ]
     },
     "execution_count": 12,
     "metadata": {},
     "output_type": "execute_result"
    }
   ],
   "source": [
    "list1.tail.val"
   ]
  },
  {
   "cell_type": "code",
   "execution_count": 13,
   "id": "2c7d66bf-fd1a-4e8e-a69a-baad5f22a133",
   "metadata": {
    "execution": {
     "iopub.execute_input": "2022-08-08T14:51:32.461448Z",
     "iopub.status.busy": "2022-08-08T14:51:32.461448Z",
     "iopub.status.idle": "2022-08-08T14:51:32.480445Z",
     "shell.execute_reply": "2022-08-08T14:51:32.479444Z",
     "shell.execute_reply.started": "2022-08-08T14:51:32.461448Z"
    },
    "tags": []
   },
   "outputs": [],
   "source": [
    "val4 = val3.next\n",
    "val4  # Will return None to let us know no value follow by"
   ]
  }
 ],
 "metadata": {
  "kernelspec": {
   "display_name": "Python 3 (ipykernel)",
   "language": "python",
   "name": "python3"
  },
  "language_info": {
   "codemirror_mode": {
    "name": "ipython",
    "version": 3
   },
   "file_extension": ".py",
   "mimetype": "text/x-python",
   "name": "python",
   "nbconvert_exporter": "python",
   "pygments_lexer": "ipython3",
   "version": "3.10.4"
  }
 },
 "nbformat": 4,
 "nbformat_minor": 5
}
