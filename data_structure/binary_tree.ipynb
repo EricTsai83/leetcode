{
 "cells": [
  {
   "cell_type": "markdown",
   "id": "bac110c7-5c84-46b6-803d-0737fb9d3e08",
   "metadata": {},
   "source": [
    "## Binary Tree\n",
    "[Reference](https://zh.wikipedia.org/zh-tw/%E4%BA%8C%E5%8F%89%E6%A0%91)\n",
    "\n",
    "A binary tree is a data structure in which every node or vertex has at most two children. In Python, a binary tree can be represented in different ways with different data structures(dictionary, list) and class representations for a node.\n",
    "\n",
    "Use `pip install binarytree` to install package that can build binarytree easelly.\n",
    "* Syntax: binarytree.Node(value, left=None, right=None)\n",
    "* Parameters: \n",
    "    * value: Contains the data for a node. This value must be number. \n",
    "    * left: Contains the details of left node child. \n",
    "    * right: Contains details of the right node child. \n",
    "\n",
    "---"
   ]
  },
  {
   "cell_type": "code",
   "execution_count": 1,
   "id": "ede6425c-825c-44da-951d-9b6d814fb684",
   "metadata": {
    "execution": {
     "iopub.execute_input": "2022-09-23T15:00:05.815306Z",
     "iopub.status.busy": "2022-09-23T15:00:05.814306Z",
     "iopub.status.idle": "2022-09-23T15:00:06.002276Z",
     "shell.execute_reply": "2022-09-23T15:00:05.999277Z",
     "shell.execute_reply.started": "2022-09-23T15:00:05.815306Z"
    },
    "tags": []
   },
   "outputs": [
    {
     "name": "stdout",
     "output_type": "stream",
     "text": [
      "Binary tree from list : \n",
      "    ___3___\n",
      "   /       \\\n",
      "  6        _8\n",
      " / \\      /  \\\n",
      "2   11   15   13\n",
      "\n",
      "List from binary tree : [3, 6, 8, 2, 11, 15, 13]\n"
     ]
    }
   ],
   "source": [
    "# Creating binary tree \n",
    "# from given list\n",
    "from binarytree import build\n",
    "  \n",
    "# List of nodes\n",
    "nodes =[3, 6, 8, 2, 11, 15, 13]\n",
    "  \n",
    "# Building the binary tree\n",
    "binary_tree = build(nodes)\n",
    "print('Binary tree from list :', binary_tree)\n",
    "  \n",
    "# Getting list of nodes from\n",
    "# binarytree\n",
    "print('List from binary tree :', binary_tree.values)"
   ]
  },
  {
   "cell_type": "code",
   "execution_count": 2,
   "id": "f2775bba-6267-49e1-bd8a-d11d9ec67825",
   "metadata": {
    "execution": {
     "iopub.execute_input": "2022-09-23T15:00:06.008276Z",
     "iopub.status.busy": "2022-09-23T15:00:06.006275Z",
     "iopub.status.idle": "2022-09-23T15:00:06.065266Z",
     "shell.execute_reply": "2022-09-23T15:00:06.062267Z",
     "shell.execute_reply.started": "2022-09-23T15:00:06.008276Z"
    }
   },
   "outputs": [
    {
     "data": {
      "text/plain": [
       "6"
      ]
     },
     "execution_count": 2,
     "metadata": {},
     "output_type": "execute_result"
    }
   ],
   "source": [
    "binary_tree.left.value"
   ]
  },
  {
   "cell_type": "code",
   "execution_count": 3,
   "id": "732da10f-9eb4-4fd7-b403-70c4be74de30",
   "metadata": {
    "execution": {
     "iopub.execute_input": "2022-09-23T15:00:06.078264Z",
     "iopub.status.busy": "2022-09-23T15:00:06.072265Z",
     "iopub.status.idle": "2022-09-23T15:00:06.107258Z",
     "shell.execute_reply": "2022-09-23T15:00:06.106257Z",
     "shell.execute_reply.started": "2022-09-23T15:00:06.078264Z"
    }
   },
   "outputs": [
    {
     "data": {
      "text/plain": [
       "2"
      ]
     },
     "execution_count": 3,
     "metadata": {},
     "output_type": "execute_result"
    }
   ],
   "source": [
    "binary_tree.left.left.value"
   ]
  },
  {
   "cell_type": "code",
   "execution_count": 4,
   "id": "d94c00a7-9168-4f99-bc2f-4cecd306927a",
   "metadata": {
    "execution": {
     "iopub.execute_input": "2022-09-23T15:00:06.116258Z",
     "iopub.status.busy": "2022-09-23T15:00:06.114260Z",
     "iopub.status.idle": "2022-09-23T15:00:06.139253Z",
     "shell.execute_reply": "2022-09-23T15:00:06.138253Z",
     "shell.execute_reply.started": "2022-09-23T15:00:06.116258Z"
    }
   },
   "outputs": [
    {
     "data": {
      "text/plain": [
       "11"
      ]
     },
     "execution_count": 4,
     "metadata": {},
     "output_type": "execute_result"
    }
   ],
   "source": [
    "binary_tree.left.right.value"
   ]
  },
  {
   "cell_type": "code",
   "execution_count": 5,
   "id": "2e5a479d-9488-4b65-9c61-19528f01a0d7",
   "metadata": {
    "execution": {
     "iopub.execute_input": "2022-09-23T15:00:06.151254Z",
     "iopub.status.busy": "2022-09-23T15:00:06.148253Z",
     "iopub.status.idle": "2022-09-23T15:00:06.173248Z",
     "shell.execute_reply": "2022-09-23T15:00:06.169249Z",
     "shell.execute_reply.started": "2022-09-23T15:00:06.150253Z"
    }
   },
   "outputs": [
    {
     "data": {
      "text/plain": [
       "8"
      ]
     },
     "execution_count": 5,
     "metadata": {},
     "output_type": "execute_result"
    }
   ],
   "source": [
    "binary_tree.right.value"
   ]
  },
  {
   "cell_type": "code",
   "execution_count": 6,
   "id": "e312e02a-5f03-413a-b44a-0f4192945537",
   "metadata": {
    "execution": {
     "iopub.execute_input": "2022-09-23T15:00:06.179248Z",
     "iopub.status.busy": "2022-09-23T15:00:06.177249Z",
     "iopub.status.idle": "2022-09-23T15:00:06.203245Z",
     "shell.execute_reply": "2022-09-23T15:00:06.201244Z",
     "shell.execute_reply.started": "2022-09-23T15:00:06.179248Z"
    }
   },
   "outputs": [
    {
     "data": {
      "text/plain": [
       "15"
      ]
     },
     "execution_count": 6,
     "metadata": {},
     "output_type": "execute_result"
    }
   ],
   "source": [
    "binary_tree.right.left.value"
   ]
  },
  {
   "cell_type": "code",
   "execution_count": 7,
   "id": "521515b9-9afa-465e-a288-a76eccb5921a",
   "metadata": {
    "execution": {
     "iopub.execute_input": "2022-09-23T15:00:06.214243Z",
     "iopub.status.busy": "2022-09-23T15:00:06.210245Z",
     "iopub.status.idle": "2022-09-23T15:00:06.234240Z",
     "shell.execute_reply": "2022-09-23T15:00:06.232240Z",
     "shell.execute_reply.started": "2022-09-23T15:00:06.214243Z"
    },
    "tags": []
   },
   "outputs": [
    {
     "data": {
      "text/plain": [
       "13"
      ]
     },
     "execution_count": 7,
     "metadata": {},
     "output_type": "execute_result"
    }
   ],
   "source": [
    "binary_tree.right.right.value"
   ]
  }
 ],
 "metadata": {
  "kernelspec": {
   "display_name": "Python 3 (ipykernel)",
   "language": "python",
   "name": "python3"
  },
  "language_info": {
   "codemirror_mode": {
    "name": "ipython",
    "version": 3
   },
   "file_extension": ".py",
   "mimetype": "text/x-python",
   "name": "python",
   "nbconvert_exporter": "python",
   "pygments_lexer": "ipython3",
   "version": "3.10.4"
  }
 },
 "nbformat": 4,
 "nbformat_minor": 5
}
