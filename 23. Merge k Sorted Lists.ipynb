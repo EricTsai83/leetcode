{
 "cells": [
  {
   "cell_type": "markdown",
   "metadata": {},
   "source": [
    "### Merge k Sorted Lists\n",
    "* [Reference](https://leetcode.com/problems/merge-k-sorted-lists/description/)\n",
    "* Difficulty: Hard\n",
    "---"
   ]
  },
  {
   "cell_type": "markdown",
   "metadata": {},
   "source": [
    "### Rule\n",
    "You are given an array of k linked-lists lists, each linked-list is sorted in ascending order.\n",
    "\n",
    "Merge all the linked-lists into one sorted linked-list and return it.\n",
    "\n",
    "---"
   ]
  },
  {
   "cell_type": "markdown",
   "metadata": {},
   "source": [
    "#### Example 1:\n",
    "\n",
    "```\n",
    "Input: lists = [[1,4,5],[1,3,4],[2,6]]\n",
    "Output: [1,1,2,3,4,4,5,6]\n",
    "Explanation: The linked-lists are:\n",
    "[\n",
    "  1->4->5,\n",
    "  1->3->4,\n",
    "  2->6\n",
    "]\n",
    "merging them into one sorted list:\n",
    "1->1->2->3->4->4->5->6\n",
    "```\n",
    "\n",
    "#### Example 2:\n",
    "\n",
    "```\n",
    "Input: lists = []\n",
    "Output: []\n",
    "```\n",
    "\n",
    "#### Example 3:\n",
    "\n",
    "```\n",
    "Input: lists = [[]]\n",
    "Output: []\n",
    "```"
   ]
  },
  {
   "cell_type": "markdown",
   "metadata": {},
   "source": [
    "#### Constraints:\n",
    "* k == lists.length\n",
    "* 0 <= k <= 104\n",
    "* 0 <= lists[i].length <= 500\n",
    "* -104 <= lists[i][j] <= 104\n",
    "* lists[i] is sorted in ascending order.\n",
    "* The sum of lists[i].length will not exceed 104.\n",
    "---"
   ]
  },
  {
   "cell_type": "markdown",
   "metadata": {},
   "source": [
    "### Solution\n",
    "#### For Leetcode\n",
    "[heapq](https://docs.python.org/zh-tw/3/library/heapq.html)"
   ]
  },
  {
   "cell_type": "markdown",
   "metadata": {},
   "source": [
    "[Reference](https://zxi.mytechroad.com/blog/list/leetcode-23-merge-k-sorted-lists-2/)\n",
    "\n",
    "<img src=\"./Fig/question_023.png\" alt=\"draft_48\" width=\"500\"/>"
   ]
  },
  {
   "cell_type": "code",
   "execution_count": null,
   "metadata": {},
   "outputs": [],
   "source": [
    "import heapq\n",
    "from typing import List, Optional"
   ]
  },
  {
   "cell_type": "code",
   "execution_count": null,
   "metadata": {},
   "outputs": [],
   "source": [
    "# Definition for singly-linked list.\n",
    "class ListNode:\n",
    "    def __init__(self, val=0, next=None):\n",
    "        self.val = val\n",
    "        self.next = next\n",
    "\n",
    "class Solution:\n",
    "    def mergeKLists(self, lists: List[Optional[ListNode]]) -> Optional[ListNode]:\n",
    "        heap = []\n",
    "\n",
    "        for i, l in enumerate(lists):\n",
    "            if l: heapq.heappush(heap, (l.val, i))\n",
    "        \n",
    "        dummy = curr = ListNode(0)\n",
    "\n",
    "        while heap:\n",
    "            val, i = heapq.heappop(heap)\n",
    "            curr.next = ListNode(val)\n",
    "            if lists[i].next:\n",
    "                heapq.heappush(heap, (lists[i].next.val, i))\n",
    "                lists[i] = lists[i].next\n",
    "            curr = curr.next\n",
    "        \n",
    "        return dummy.next"
   ]
  }
 ],
 "metadata": {
  "language_info": {
   "name": "python"
  }
 },
 "nbformat": 4,
 "nbformat_minor": 2
}
