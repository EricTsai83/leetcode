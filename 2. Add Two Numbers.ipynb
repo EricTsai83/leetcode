{
 "cells": [
  {
   "cell_type": "markdown",
   "id": "6fd9ef8f",
   "metadata": {},
   "source": [
    "### Add Two Numbers\n",
    "* [Reference](https://leetcode.com/problems/add-two-numbers/)\n",
    "* Difficulty: Medium\n",
    "---"
   ]
  },
  {
   "cell_type": "markdown",
   "id": "990ff5a7",
   "metadata": {},
   "source": [
    "### Rule\n",
    "* You are given two **non-empty linked lists** representing two **non-negative** integers.\n",
    "* The digits are stored in **reverse order**, and each of their nodes contains a single digit.\n",
    "* Add the two numbers and return the sum as a linked list.\n",
    "* You may assume the two numbers do not contain any leading zero, except the number 0 itself.\n",
    "---"
   ]
  },
  {
   "cell_type": "markdown",
   "id": "0194c357",
   "metadata": {},
   "source": [
    "#### Example 1:\n",
    "![add two number](./Fig/question_002.jpg)\n",
    "```\n",
    "Input: l1 = [2,4,3], l2 = [5,6,4]\n",
    "Output: [7,0,8]\n",
    "Explanation: 342 + 465 = 807.\n",
    "```\n",
    "#### Example 2:\n",
    "```\n",
    "Input: l1 = [0], l2 = [0]\n",
    "Output: [0]\n",
    "```\n",
    "---"
   ]
  },
  {
   "cell_type": "markdown",
   "id": "3d42e143",
   "metadata": {},
   "source": [
    "#### Constraints:\n",
    "* The number of nodes in each linked list is in the range `[1, 100]`.\n",
    "* `0 <= Node.val <= 9`\n",
    "* It is guaranteed that the list represents a number that does not have leading zeros.\n",
    "---"
   ]
  },
  {
   "cell_type": "markdown",
   "id": "324dfa3f",
   "metadata": {},
   "source": [
    "### Solution\n",
    "#### For Leetcode"
   ]
  },
  {
   "cell_type": "code",
   "execution_count": 14,
   "id": "b57f56f7",
   "metadata": {
    "execution": {
     "iopub.execute_input": "2022-02-22T12:53:19.078479Z",
     "iopub.status.busy": "2022-02-22T12:53:19.077480Z",
     "iopub.status.idle": "2022-02-22T12:53:19.106474Z",
     "shell.execute_reply": "2022-02-22T12:53:19.105477Z",
     "shell.execute_reply.started": "2022-02-22T12:53:19.078479Z"
    },
    "tags": []
   },
   "outputs": [],
   "source": [
    "# Definition for singly-linked list.\n",
    "# class ListNode:\n",
    "#     def __init__(self, val=0, next=None):\n",
    "#         self.val = val\n",
    "#         self.next = next\n",
    "\n",
    "class Solution:\n",
    "    def addTwoNumbers(self, l1, l2):\n",
    "        # input 的其中一個有 None 的情形\n",
    "        if not l2:\n",
    "            return l1\n",
    "        elif not l1:\n",
    "            return l2\n",
    "\n",
    "        tmp = l1\n",
    "        carry = 0\n",
    "        prev = None\n",
    "        while l1 and l2:  # 從兩個 linked list(l1、l2) 的第一個節點相加，需要考慮相加後，進位的流程，有可能是一個連續進位的過程\n",
    "            l1.val = l1.val + l2.val + carry\n",
    "            carry = l1.val // 10  # 用來記錄這個節點的進位，要加到下一個節點\n",
    "            l1.val = l1.val % 10\n",
    "            prev = l1\n",
    "            l1, l2 = l1.next, l2.next\n",
    "\n",
    "        while l1:  # 若進位後總結點數變更多，或是原本l1就比較長\n",
    "            l1.val += carry\n",
    "            carry = l1.val // 10\n",
    "            l1.val = l1.val % 10\n",
    "            prev = l1\n",
    "            l1 = l1.next\n",
    "\n",
    "        if l2:  # l2 比 l1 的節點還多的情況 \n",
    "            prev.next = l2  # 在最後一個節點後新增一個節點為 l2 多出 l1 的第一個節點\n",
    "            while l2:\n",
    "                l2.val += carry\n",
    "                carry = l2.val // 10\n",
    "                l2.val = l2.val % 10\n",
    "                prev = l2\n",
    "                l2 = l2.next\n",
    "\n",
    "        if carry:  # l1 和 l2 的節點都計算完畢後，還有需要進位的狀況\n",
    "            prev.next = ListNode(1)\n",
    "\n",
    "        return tmp"
   ]
  },
  {
   "cell_type": "markdown",
   "id": "25652876",
   "metadata": {},
   "source": [
    "### For Real World Problems\n",
    "[Reference](https://www.geeksforgeeks.org/applications-of-linked-list-data-structure/)\n",
    "* Applications of linked list in real world:\n",
    "    1. Image viewer – Previous and next images are linked, hence can be accessed by next and previous button.\n",
    "    2. Previous and next page in web browser – We can access previous and next url searched in web browser by pressing back and next button since, they are linked as linked list.\n",
    "    3. Music Player – Songs in music player are linked to previous and next song. you can play songs either from starting or ending of the list.\n",
    "    \n",
    "* Design a data structure that supports following operations efficiently.\n",
    "    1. getMin : Gets minimum\n",
    "    2. extractMin : Removes minimum\n",
    "    3. getMax : Gets maximum\n",
    "    4. extractMax : Removes maximum\n",
    "    5. insert : Inserts an item. It may be assumed that the inserted item is always greater than maximum so far. For example, a valid insertion order is 10, 12, 13, 20, 50."
   ]
  },
  {
   "cell_type": "markdown",
   "id": "dde3ad70",
   "metadata": {},
   "source": [
    "#### Definition for singly-linked list."
   ]
  },
  {
   "cell_type": "code",
   "execution_count": 15,
   "id": "a56340c3",
   "metadata": {
    "execution": {
     "iopub.execute_input": "2022-02-22T12:53:19.110474Z",
     "iopub.status.busy": "2022-02-22T12:53:19.109474Z",
     "iopub.status.idle": "2022-02-22T12:53:19.122473Z",
     "shell.execute_reply": "2022-02-22T12:53:19.121473Z",
     "shell.execute_reply.started": "2022-02-22T12:53:19.110474Z"
    }
   },
   "outputs": [],
   "source": [
    "class ListNode:\n",
    "    def __init__(self, val=0, next=None):\n",
    "        self.val = val\n",
    "        self.next = next"
   ]
  },
  {
   "cell_type": "code",
   "execution_count": 16,
   "id": "1969a394",
   "metadata": {
    "execution": {
     "iopub.execute_input": "2022-02-22T12:53:19.126471Z",
     "iopub.status.busy": "2022-02-22T12:53:19.125471Z",
     "iopub.status.idle": "2022-02-22T12:53:19.137471Z",
     "shell.execute_reply": "2022-02-22T12:53:19.136469Z",
     "shell.execute_reply.started": "2022-02-22T12:53:19.126471Z"
    },
    "tags": []
   },
   "outputs": [],
   "source": [
    "class SingleLinkedList:\n",
    "    def __init__(self): \n",
    "        self.head = None\n",
    "        self.tail = None\n",
    "        \n",
    "    def add_list_item(self, item):\n",
    "        # make sure item is a proper node\n",
    "        if not isinstance(item, ListNode):\n",
    "            item = ListNode(item)\n",
    "\n",
    "        if self.head is None:\n",
    "            self.head = item\n",
    "        else:\n",
    "            self.tail.next = item\n",
    "\n",
    "        self.tail = item"
   ]
  },
  {
   "cell_type": "markdown",
   "id": "583c891f",
   "metadata": {},
   "source": [
    "#### Create single linked list"
   ]
  },
  {
   "cell_type": "code",
   "execution_count": 17,
   "id": "ece0001d",
   "metadata": {
    "execution": {
     "iopub.execute_input": "2022-02-22T12:53:19.140469Z",
     "iopub.status.busy": "2022-02-22T12:53:19.139470Z",
     "iopub.status.idle": "2022-02-22T12:53:19.152467Z",
     "shell.execute_reply": "2022-02-22T12:53:19.151468Z",
     "shell.execute_reply.started": "2022-02-22T12:53:19.140469Z"
    },
    "tags": []
   },
   "outputs": [],
   "source": [
    "l1 = SingleLinkedList()\n",
    "l1.add_list_item(5)\n",
    "l1.add_list_item(4)\n",
    "l1.add_list_item(1)\n",
    "l1.add_list_item(8)\n",
    "l1.add_list_item(8)\n",
    "\n",
    "l2 = SingleLinkedList()\n",
    "l2.add_list_item(8)\n",
    "l2.add_list_item(8)\n",
    "l2.add_list_item(4)\n",
    "l2.add_list_item(5)"
   ]
  },
  {
   "cell_type": "code",
   "execution_count": 18,
   "id": "4e06db9e",
   "metadata": {
    "execution": {
     "iopub.execute_input": "2022-02-22T12:53:19.156466Z",
     "iopub.status.busy": "2022-02-22T12:53:19.155468Z",
     "iopub.status.idle": "2022-02-22T12:53:19.185462Z",
     "shell.execute_reply": "2022-02-22T12:53:19.183462Z",
     "shell.execute_reply.started": "2022-02-22T12:53:19.156466Z"
    },
    "tags": []
   },
   "outputs": [],
   "source": [
    "class LinkedList:\n",
    "    def addTwoNumbers(self, l1, l2):\n",
    "        # input 的其中一個有 None 的情形\n",
    "        if not l2:\n",
    "            return l1\n",
    "        elif not l1:\n",
    "            return l2\n",
    "\n",
    "        tmp = l1\n",
    "        carry = 0\n",
    "        prev = None\n",
    "        while l1 and l2:  # 從兩個 linked list(l1、l2) 的第一個節點相加，需要考慮相加後，進位的流程，有可能是一個連續進位的過程\n",
    "            l1.val = l1.val + l2.val + carry\n",
    "            carry = l1.val // 10  # 用來記錄這個節點的進位，要加到下一個節點\n",
    "            l1.val = l1.val % 10\n",
    "            prev = l1\n",
    "            l1, l2 = l1.next, l2.next\n",
    "\n",
    "        while l1:  # 若進位後總結點數變更多，或是原本l1就比較長\n",
    "            l1.val += carry\n",
    "            carry = l1.val // 10\n",
    "            l1.val = l1.val % 10\n",
    "            prev = l1\n",
    "            l1 = l1.next\n",
    "\n",
    "        if l2:  # l2 比 l1 的節點還多的情況 \n",
    "            prev.next = l2  # 在最後一個節點後新增一個節點為 l2 多出 l1 的第一個節點\n",
    "            while l2:\n",
    "                l2.val += carry\n",
    "                carry = l2.val // 10\n",
    "                l2.val = l2.val % 10\n",
    "                prev = l2\n",
    "                l2 = l2.next\n",
    "\n",
    "        if carry:  # l1 和 l2 的節點都計算完畢後，還有需要進位的狀況\n",
    "            prev.next = ListNode(1)\n",
    "\n",
    "        return tmp"
   ]
  },
  {
   "cell_type": "code",
   "execution_count": 19,
   "id": "05a41c24",
   "metadata": {
    "execution": {
     "iopub.execute_input": "2022-02-22T12:53:19.187463Z",
     "iopub.status.busy": "2022-02-22T12:53:19.187463Z",
     "iopub.status.idle": "2022-02-22T12:53:19.203459Z",
     "shell.execute_reply": "2022-02-22T12:53:19.201459Z",
     "shell.execute_reply.started": "2022-02-22T12:53:19.187463Z"
    },
    "tags": []
   },
   "outputs": [
    {
     "data": {
      "text/plain": [
       "93633"
      ]
     },
     "execution_count": 19,
     "metadata": {},
     "output_type": "execute_result"
    }
   ],
   "source": [
    "88145+5488"
   ]
  },
  {
   "cell_type": "code",
   "execution_count": 20,
   "id": "47d8ef62",
   "metadata": {
    "execution": {
     "iopub.execute_input": "2022-02-22T12:53:19.206459Z",
     "iopub.status.busy": "2022-02-22T12:53:19.205460Z",
     "iopub.status.idle": "2022-02-22T12:53:19.232454Z",
     "shell.execute_reply": "2022-02-22T12:53:19.231454Z",
     "shell.execute_reply.started": "2022-02-22T12:53:19.206459Z"
    },
    "tags": []
   },
   "outputs": [
    {
     "name": "stdout",
     "output_type": "stream",
     "text": [
      "3\n",
      "3\n",
      "6\n",
      "3\n",
      "9\n"
     ]
    }
   ],
   "source": [
    "temp = LinkedList().addTwoNumbers(l1.head, l2.head)\n",
    "for i in range(10):\n",
    "    while temp:\n",
    "        print(temp.val)\n",
    "        temp = temp.next"
   ]
  }
 ],
 "metadata": {
  "kernelspec": {
   "display_name": "Python 3 (ipykernel)",
   "language": "python",
   "name": "python3"
  },
  "language_info": {
   "codemirror_mode": {
    "name": "ipython",
    "version": 3
   },
   "file_extension": ".py",
   "mimetype": "text/x-python",
   "name": "python",
   "nbconvert_exporter": "python",
   "pygments_lexer": "ipython3",
   "version": "3.10.4"
  }
 },
 "nbformat": 4,
 "nbformat_minor": 5
}
