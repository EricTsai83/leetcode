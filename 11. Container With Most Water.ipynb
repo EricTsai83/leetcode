{
 "cells": [
  {
   "cell_type": "markdown",
   "id": "92fbe73a-1e08-481d-a890-1cb7e9537f34",
   "metadata": {},
   "source": [
    "### Container With Most Water\n",
    "* [Reference](https://leetcode.com/problems/container-with-most-water/)\n",
    "* Difficulty: Medium\n",
    "---"
   ]
  },
  {
   "cell_type": "markdown",
   "id": "76546b45-ccb1-4651-b210-f8099eee2482",
   "metadata": {},
   "source": [
    "- You are given an integer array height of length n.\n",
    "- There are n vertical lines drawn such that the two endpoints of the `$i^{th}$` line are `(i, 0)` and `(i, height[i])`.\n",
    "- Find two lines that together with the x-axis form a container, such that the container contains the most water.\n",
    "- Return the maximum amount of water a container can store.\n",
    "\n",
    "**Notice** that you may not slant the container.\n",
    "\n",
    "---"
   ]
  },
  {
   "cell_type": "markdown",
   "id": "b663a18f-b7ea-4336-a2a5-68ce7eeb7611",
   "metadata": {},
   "source": [
    "#### Example 1\n",
    "![Demo](./Fig/question_011.jpg)\n",
    "```\n",
    "Input: height = [1,8,6,2,5,4,8,3,7]\n",
    "Output: 49\n",
    "Explanation: The above vertical lines are represented by array [1,8,6,2,5,4,8,3,7]. In this case, the max area of water (blue section) the container can contain is 49.\n",
    "```\n",
    "---"
   ]
  },
  {
   "cell_type": "markdown",
   "id": "038f4ee5-8e91-46fe-bb8e-f90fdb9ee210",
   "metadata": {},
   "source": [
    "### Solution\n",
    "#### Algorithm\n",
    "1. 先 declare 兩個指針，分別指向 list 的一開始和 list 的最後\n",
    "2. declare 一個變數為`最大水面積`(初始化值為0)\n",
    "3. declare 左右指針位置高度較小的值為`最大水面積的高度`(初始化值為0)\n",
    "4. 根據兩指針指向位置的高度，找到較小的那一個作為水面積的高度\n",
    "5. 比較`最大水面積的高度`和上一步驟水面積的高度，若前者較大，就跳過 6 - 10 步驟\n",
    "6. 計算該水面積的高度與兩指針距離的乘積，即水的面積\n",
    "7. 比較上一步計算的水面積是否大於我們 declare 的最大水面積\n",
    "8. 若有就將最大水面積更新成第6步驟計算的水面積\n",
    "\n",
    ">Note: 此時我們要知道，只有提升高度，才有可能提高水面積，因為這已經是最大橫向距離的計算結果\n",
    "\n",
    "9. 所以接下來判斷條件為看左指針位置的高度與右指針位置的高度，哪一個比較高\n",
    "10. 若左高，那就讓右指針往左移一格，反之亦然(一樣高的話，移哪邊都可以)\n",
    "11. 重複 4 - 11的步驟，直到左指針>右指針，結束疊代\n",
    "#### For Leetcode"
   ]
  },
  {
   "cell_type": "code",
   "execution_count": 1,
   "id": "88cfea60-0274-4831-952f-138cdbd116ab",
   "metadata": {
    "execution": {
     "iopub.execute_input": "2022-05-29T16:16:37.024438Z",
     "iopub.status.busy": "2022-05-29T16:16:37.023439Z",
     "iopub.status.idle": "2022-05-29T16:16:37.064321Z",
     "shell.execute_reply": "2022-05-29T16:16:37.063314Z",
     "shell.execute_reply.started": "2022-05-29T16:16:37.024438Z"
    },
    "tags": []
   },
   "outputs": [],
   "source": [
    "class Solution:\n",
    "    \"\"\"\n",
    "    input: List[int]\n",
    "    \"\"\"\n",
    "    def maxArea(self, height: list) -> int:\n",
    "        l_idx = 0\n",
    "        r_idx = len(height) - 1\n",
    "        res = 0\n",
    "        res_h = 0\n",
    "        while l_idx < r_idx:\n",
    "            if res_h < min(height[l_idx], height[r_idx]):  # 可加可不加，但如果下面的計算量是大的，我覺得加了速度會快很多，但不利於 leetcode\n",
    "                min_height = min(height[l_idx], height[r_idx])\n",
    "                curr = min_height * (r_idx - l_idx)\n",
    "                if curr > res:\n",
    "                    res, res_h = curr, min_height\n",
    "                else:\n",
    "                    pass\n",
    "            if height[l_idx] < height[r_idx]:\n",
    "                l_idx += 1\n",
    "            else:\n",
    "                r_idx -= 1\n",
    "        return res"
   ]
  },
  {
   "cell_type": "code",
   "execution_count": 2,
   "id": "8f069d58-6522-417f-a1af-646d968d4421",
   "metadata": {
    "execution": {
     "iopub.execute_input": "2022-05-29T16:16:37.066318Z",
     "iopub.status.busy": "2022-05-29T16:16:37.065317Z",
     "iopub.status.idle": "2022-05-29T16:16:37.080318Z",
     "shell.execute_reply": "2022-05-29T16:16:37.079337Z",
     "shell.execute_reply.started": "2022-05-29T16:16:37.066318Z"
    },
    "tags": []
   },
   "outputs": [],
   "source": [
    "def test_solution():\n",
    "    try:\n",
    "        height = [1,8,6,2,5,4,8,3,7]\n",
    "        output = 49\n",
    "        assert Solution().maxArea(height) == output\n",
    "        \n",
    "        height = [1,1]\n",
    "        output = 1\n",
    "        assert Solution().maxArea(height) == output\n",
    "        \n",
    "        height = [1,2,4,3]\n",
    "        output = 4\n",
    "        assert Solution().maxArea(height) == output\n",
    "        \n",
    "        print(\"\\033[92m All tests passed.\")\n",
    "    except:\n",
    "        print(f'\\033[91m Input: {height}\\n Output:{Solution().maxArea(height)}\\n Expected: {output}')"
   ]
  },
  {
   "cell_type": "code",
   "execution_count": 3,
   "id": "0fd3873a-eed3-4486-8536-2f2c34b5afb3",
   "metadata": {
    "execution": {
     "iopub.execute_input": "2022-05-29T16:16:37.082337Z",
     "iopub.status.busy": "2022-05-29T16:16:37.082337Z",
     "iopub.status.idle": "2022-05-29T16:16:37.096316Z",
     "shell.execute_reply": "2022-05-29T16:16:37.095316Z",
     "shell.execute_reply.started": "2022-05-29T16:16:37.082337Z"
    },
    "tags": []
   },
   "outputs": [
    {
     "name": "stdout",
     "output_type": "stream",
     "text": [
      "\u001b[92m All tests passed.\n"
     ]
    }
   ],
   "source": [
    "test_solution()"
   ]
  }
 ],
 "metadata": {
  "kernelspec": {
   "display_name": "Python 3 (ipykernel)",
   "language": "python",
   "name": "python3"
  },
  "language_info": {
   "codemirror_mode": {
    "name": "ipython",
    "version": 3
   },
   "file_extension": ".py",
   "mimetype": "text/x-python",
   "name": "python",
   "nbconvert_exporter": "python",
   "pygments_lexer": "ipython3",
   "version": "3.10.4"
  }
 },
 "nbformat": 4,
 "nbformat_minor": 5
}
