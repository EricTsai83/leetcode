{
 "cells": [
  {
   "cell_type": "markdown",
   "id": "1cf2c478-badd-420b-a960-92e26f1b0735",
   "metadata": {},
   "source": [
    "### Remove Duplicates from Sorted Array\n",
    "* [Reference](https://leetcode.com/problems/remove-duplicates-from-sorted-array/)\n",
    "* Difficulty: Easy\n",
    "---"
   ]
  },
  {
   "cell_type": "markdown",
   "id": "f2e8d9b7-b106-4409-9679-98890c713f01",
   "metadata": {},
   "source": [
    "### Rule\n",
    "* Given an integer array nums sorted in **non-decreasing order**, remove the duplicates in-place such that each unique element appears only **once**. The **relative order** of the elements should be kept the **same**.\n",
    "\n",
    "* Since it is impossible to change the length of the array in some languages, you must instead have the result be placed in the first part of the array nums.\n",
    "\n",
    "* More formally, if there are k elements after removing the duplicates, then the first k elements of nums should hold the final result. It does not matter what you leave beyond the first k elements.\n",
    "\n",
    "* Return k after placing the final result in the first k slots of nums.\n",
    "\n",
    "* Do not allocate extra space for another array. You must do this by **modifying the input array** in-place with O(1) extra memory.\n",
    "---"
   ]
  },
  {
   "cell_type": "markdown",
   "id": "f5a6b2fd-65b9-4203-9712-72403f59b2fe",
   "metadata": {},
   "source": [
    "#### Custom Judge:\n",
    "The judge will test your solution with the following code:\n",
    "```\n",
    "int[] nums = [...]; // Input array\n",
    "int[] expectedNums = [...]; // The expected answer with correct length\n",
    "\n",
    "int k = removeDuplicates(nums); // Calls your implementation\n",
    "\n",
    "assert k == expectedNums.length;\n",
    "for (int i = 0; i < k; i++) {\n",
    "    assert nums[i] == expectedNums[i];\n",
    "}\n",
    "```\n",
    "---"
   ]
  },
  {
   "cell_type": "markdown",
   "id": "555fe39d-2d9e-407d-8e26-57e906e5f4fc",
   "metadata": {},
   "source": [
    "#### Example 1:\n",
    "```\n",
    "Input: nums = [1,1,2]\n",
    "Output: 2, nums = [1,2,_]\n",
    "Explanation: Your function should return k = 2, with the first two elements of nums being 1 and 2 respectively.\n",
    "It does not matter what you leave beyond the returned k (hence they are underscores).\n",
    "```\n",
    "\n",
    "#### Example 2:\n",
    "```\n",
    "Input: nums = [0, 0, 1, 1, 1, 2, 2, 3, 3, 4]\n",
    "Output: 5, nums = [0, 1, 2, 3, 4, _, _, _, _, _]\n",
    "Explanation: Your function should return k = 5, with the first five elements of nums being 0, 1, 2, 3, and 4 respectively.\n",
    "It does not matter what you leave beyond the returned k (hence they are underscores).\n",
    "```\n",
    "---"
   ]
  },
  {
   "cell_type": "markdown",
   "id": "aec9fd73-508c-41f3-9310-cc83a530a50a",
   "metadata": {},
   "source": [
    "#### Constraints:\n",
    "```\n",
    "0 <= nums.length <= 3 * 104\n",
    "-100 <= nums[i] <= 100\n",
    "nums is sorted in non-decreasing order.\n",
    "```\n",
    "---"
   ]
  },
  {
   "cell_type": "markdown",
   "id": "f170d070-6b7b-494d-90ef-7e48b559afcf",
   "metadata": {},
   "source": [
    "### Solution\n",
    "#### For Leetcode"
   ]
  },
  {
   "cell_type": "code",
   "execution_count": 1,
   "id": "3c981c23-f533-4837-a869-f305aa0c4d76",
   "metadata": {
    "execution": {
     "iopub.execute_input": "2022-02-12T13:55:41.785598Z",
     "iopub.status.busy": "2022-02-12T13:55:41.784598Z",
     "iopub.status.idle": "2022-02-12T13:55:41.830591Z",
     "shell.execute_reply": "2022-02-12T13:55:41.827592Z",
     "shell.execute_reply.started": "2022-02-12T13:55:41.784598Z"
    },
    "tags": []
   },
   "outputs": [],
   "source": [
    "class Solution:\n",
    "    def removeDuplicates(self, nums):\n",
    "        \"\"\"\n",
    "        input: nums\n",
    "        -- type: list[int]\n",
    "        output: k\n",
    "        -- type: int\n",
    "        \"\"\"\n",
    "        i_cur = 0  # use it to replace list value\n",
    "        i_sea = 1  # use it to search different value\n",
    "        while i_sea < len(nums):\n",
    "            if nums[i_cur] == nums[i_sea]:\n",
    "                pass\n",
    "            else:\n",
    "                i_cur += 1\n",
    "                nums[i_cur] = nums[i_sea]\n",
    "            i_sea += 1\n",
    "        return i_cur+1"
   ]
  },
  {
   "cell_type": "code",
   "execution_count": 2,
   "id": "31ed6d4e-5940-4391-bd75-ce96165a621a",
   "metadata": {
    "execution": {
     "iopub.execute_input": "2022-02-12T13:55:41.834593Z",
     "iopub.status.busy": "2022-02-12T13:55:41.833591Z",
     "iopub.status.idle": "2022-02-12T13:55:41.890582Z",
     "shell.execute_reply": "2022-02-12T13:55:41.888582Z",
     "shell.execute_reply.started": "2022-02-12T13:55:41.834593Z"
    },
    "tags": []
   },
   "outputs": [
    {
     "data": {
      "text/plain": [
       "4"
      ]
     },
     "execution_count": 2,
     "metadata": {},
     "output_type": "execute_result"
    }
   ],
   "source": [
    "Solution().removeDuplicates(nums= [1, 1, 1, 2, 2 , 4, 5])"
   ]
  },
  {
   "cell_type": "markdown",
   "id": "06b3dc01-f0bd-4d1e-bce9-4b8ca96affcd",
   "metadata": {},
   "source": [
    "### For Real World Problems"
   ]
  },
  {
   "cell_type": "code",
   "execution_count": 3,
   "id": "f20c7cc3-6d82-48f9-9814-5580987833f1",
   "metadata": {
    "execution": {
     "iopub.execute_input": "2022-02-12T13:55:41.893582Z",
     "iopub.status.busy": "2022-02-12T13:55:41.892584Z",
     "iopub.status.idle": "2022-02-12T13:55:41.924577Z",
     "shell.execute_reply": "2022-02-12T13:55:41.920580Z",
     "shell.execute_reply.started": "2022-02-12T13:55:41.893582Z"
    },
    "tags": []
   },
   "outputs": [],
   "source": [
    "class ListUtils:\n",
    "    def remove_duplicates(self, nums, sort=True):\n",
    "        \"\"\"\n",
    "        Input: A list\n",
    "        Output: A list that removes duplicates\n",
    "        Note: If sort is 'False', then only delete duplicates nearby itself.\n",
    "        EX. input: [1, 1, 3, 2, 2, 2, 3, 3]\n",
    "            output:\n",
    "            -- (sort = True) [1, 2, 3]\n",
    "            -- (sort = False) [1, 3, 2, 3]\n",
    "        \"\"\"\n",
    "        if sort:\n",
    "            nums = sorted(nums)\n",
    "            \n",
    "        li = []\n",
    "        li.append(nums[0])  # the first element is definitely not a duplicate, because no element in front of it\n",
    " \n",
    "        i_cur = 0  # use it to replace list value\n",
    "        i_sea = 1  # use it to search different value\n",
    "        while i_sea < len(nums):\n",
    "            if nums[i_cur] == nums[i_sea]:\n",
    "                pass\n",
    "            else:\n",
    "                li.append(nums[i_sea])\n",
    "                i_cur = i_sea\n",
    "            i_sea += 1\n",
    "        return li"
   ]
  },
  {
   "cell_type": "code",
   "execution_count": 4,
   "id": "22fccb71-7414-4e43-8452-021129904486",
   "metadata": {
    "execution": {
     "iopub.execute_input": "2022-02-12T13:55:41.927576Z",
     "iopub.status.busy": "2022-02-12T13:55:41.927576Z",
     "iopub.status.idle": "2022-02-12T13:55:41.941574Z",
     "shell.execute_reply": "2022-02-12T13:55:41.936575Z",
     "shell.execute_reply.started": "2022-02-12T13:55:41.927576Z"
    },
    "tags": []
   },
   "outputs": [],
   "source": [
    "nums=[1, 1, 3, 2, 2, 2, 3, 3]"
   ]
  },
  {
   "cell_type": "code",
   "execution_count": 5,
   "id": "7b6780a5-0c14-4348-9683-08f6ba5510af",
   "metadata": {
    "execution": {
     "iopub.execute_input": "2022-02-12T13:55:41.944574Z",
     "iopub.status.busy": "2022-02-12T13:55:41.943575Z",
     "iopub.status.idle": "2022-02-12T13:55:41.971570Z",
     "shell.execute_reply": "2022-02-12T13:55:41.968570Z",
     "shell.execute_reply.started": "2022-02-12T13:55:41.944574Z"
    }
   },
   "outputs": [
    {
     "data": {
      "text/plain": [
       "[1, 2, 3]"
      ]
     },
     "execution_count": 5,
     "metadata": {},
     "output_type": "execute_result"
    }
   ],
   "source": [
    "ListUtils().remove_duplicates(nums, sort=True)"
   ]
  },
  {
   "cell_type": "code",
   "execution_count": 6,
   "id": "3608f8f7-6eda-4fcf-a66a-15a1bd0eab1d",
   "metadata": {
    "execution": {
     "iopub.execute_input": "2022-02-12T13:55:41.975569Z",
     "iopub.status.busy": "2022-02-12T13:55:41.974569Z",
     "iopub.status.idle": "2022-02-12T13:55:42.003573Z",
     "shell.execute_reply": "2022-02-12T13:55:42.000567Z",
     "shell.execute_reply.started": "2022-02-12T13:55:41.975569Z"
    },
    "tags": []
   },
   "outputs": [
    {
     "data": {
      "text/plain": [
       "[1, 3, 2, 3]"
      ]
     },
     "execution_count": 6,
     "metadata": {},
     "output_type": "execute_result"
    }
   ],
   "source": [
    "ListUtils().remove_duplicates(nums, sort=False)"
   ]
  }
 ],
 "metadata": {
  "kernelspec": {
   "display_name": "Python 3",
   "language": "python",
   "name": "python3"
  },
  "language_info": {
   "codemirror_mode": {
    "name": "ipython",
    "version": 3
   },
   "file_extension": ".py",
   "mimetype": "text/x-python",
   "name": "python",
   "nbconvert_exporter": "python",
   "pygments_lexer": "ipython3",
   "version": "3.7.10"
  }
 },
 "nbformat": 4,
 "nbformat_minor": 5
}
