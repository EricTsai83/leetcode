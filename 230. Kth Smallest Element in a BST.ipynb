{
 "cells": [
  {
   "cell_type": "markdown",
   "id": "52aeb5a4-5515-472e-8be4-be34c2767772",
   "metadata": {},
   "source": [
    "## Kth Smallest Element in a BST\n",
    "* [Reference](https://leetcode.com/problems/kth-smallest-element-in-a-bst/)\n",
    "* Difficulty: Medium\n",
    "---"
   ]
  },
  {
   "cell_type": "markdown",
   "id": "0e12a7b4-d888-403c-8782-0079e69c3ee0",
   "metadata": {},
   "source": [
    "### Rule\n",
    "* Given the root of a binary search tree, and an integer k, return the kth smallest value (1-indexed) of all the values of the nodes in the tree.\n",
    "---"
   ]
  },
  {
   "cell_type": "markdown",
   "id": "91e04369-b940-42f3-8261-0b058b7fc612",
   "metadata": {},
   "source": [
    "#### Example 1:\n",
    "![example1](./Fig/question_230_example1.jpg)\n",
    "```\n",
    "Input: root = [3,1,4,null,2], k = 1\n",
    "Output: 1\n",
    "```\n",
    "#### Example 2:\n",
    "![example2](./Fig/question_230_example2.jpg)\n",
    "```\n",
    "Input: root = [5,3,6,2,4,null,null,1], k = 3\n",
    "Output: 3\n",
    "```"
   ]
  },
  {
   "cell_type": "markdown",
   "id": "8d555c00-6118-4fb1-8a76-786ca839ef95",
   "metadata": {},
   "source": [
    "### Solution\n",
    "#### For Leetcode"
   ]
  },
  {
   "cell_type": "code",
   "execution_count": 1,
   "id": "e2d82758-7c4a-4a39-9e98-2fc6bae10a9f",
   "metadata": {
    "execution": {
     "iopub.execute_input": "2022-10-02T13:13:01.565452Z",
     "iopub.status.busy": "2022-10-02T13:13:01.565452Z",
     "iopub.status.idle": "2022-10-02T13:13:01.608446Z",
     "shell.execute_reply": "2022-10-02T13:13:01.598447Z",
     "shell.execute_reply.started": "2022-10-02T13:13:01.565452Z"
    }
   },
   "outputs": [],
   "source": [
    "from typing import Optional"
   ]
  },
  {
   "cell_type": "code",
   "execution_count": 2,
   "id": "5c37be4a-863d-4e06-a620-6b3f4496e3ad",
   "metadata": {
    "execution": {
     "iopub.execute_input": "2022-10-02T13:13:01.616445Z",
     "iopub.status.busy": "2022-10-02T13:13:01.615452Z",
     "iopub.status.idle": "2022-10-02T13:13:01.632442Z",
     "shell.execute_reply": "2022-10-02T13:13:01.628445Z",
     "shell.execute_reply.started": "2022-10-02T13:13:01.616445Z"
    }
   },
   "outputs": [],
   "source": [
    "# Definition for a binary tree node.\n",
    "class TreeNode:\n",
    "    def __init__(self, val=0, left=None, right=None):\n",
    "        self.val = val\n",
    "        self.left = left\n",
    "        self.right = right"
   ]
  },
  {
   "cell_type": "code",
   "execution_count": 3,
   "id": "464c7591-3357-4308-9dc3-fb4de1312626",
   "metadata": {
    "execution": {
     "iopub.execute_input": "2022-10-02T13:13:01.636441Z",
     "iopub.status.busy": "2022-10-02T13:13:01.634444Z",
     "iopub.status.idle": "2022-10-02T13:13:01.663437Z",
     "shell.execute_reply": "2022-10-02T13:13:01.661442Z",
     "shell.execute_reply.started": "2022-10-02T13:13:01.636441Z"
    },
    "tags": []
   },
   "outputs": [],
   "source": [
    "class Solution:\n",
    "    def kthSmallest(self, root: Optional[TreeNode], k: int) -> int:\n",
    "        def inorder(r):\n",
    "            if r:\n",
    "                return inorder(r.left) + [r.val] + inorder(r.right)\n",
    "            else:\n",
    "                return []\n",
    "        return inorder(root)[k - 1]"
   ]
  },
  {
   "cell_type": "markdown",
   "id": "cfea0663-15d0-4f8a-a0ca-1a8d25479f25",
   "metadata": {},
   "source": [
    "### Testing "
   ]
  },
  {
   "cell_type": "markdown",
   "id": "0a27b37f-7ea4-4e6f-9b88-67a5375d50b0",
   "metadata": {},
   "source": [
    "* #### Create Tree Object"
   ]
  },
  {
   "cell_type": "code",
   "execution_count": 4,
   "id": "37adf2f2-dbf7-407b-a244-1079b7d3bec3",
   "metadata": {
    "execution": {
     "iopub.execute_input": "2022-10-02T13:13:01.674438Z",
     "iopub.status.busy": "2022-10-02T13:13:01.672437Z",
     "iopub.status.idle": "2022-10-02T13:13:01.721428Z",
     "shell.execute_reply": "2022-10-02T13:13:01.708430Z",
     "shell.execute_reply.started": "2022-10-02T13:13:01.674438Z"
    },
    "tags": []
   },
   "outputs": [
    {
     "name": "stdout",
     "output_type": "stream",
     "text": [
      "The tree is not a complete binary tree\n"
     ]
    }
   ],
   "source": [
    "# Checking if a binary tree is a complete binary tree in C\n",
    "class Node:\n",
    "    def __init__(self, item):\n",
    "        self.val = item\n",
    "        self.left = None\n",
    "        self.right = None\n",
    "\n",
    "# Count the number of nodes\n",
    "def count_nodes(root):\n",
    "    if root is None:\n",
    "        return 0\n",
    "    return (1 + count_nodes(root.left) + count_nodes(root.right))\n",
    "\n",
    "# Check if the tree is complete binary tree\n",
    "def is_complete(root, index, numberNodes):\n",
    "    # Check if the tree is empty\n",
    "    if root is None:\n",
    "        return True\n",
    "    if index >= numberNodes:\n",
    "        return False\n",
    "    return (is_complete(root.left, 2 * index + 1, numberNodes)\n",
    "            and is_complete(root.right, 2 * index + 2, numberNodes))\n",
    "\n",
    "def create_binary_tree():\n",
    "    root = Node(3)\n",
    "    root.left = Node(1)\n",
    "    root.right = Node(4)\n",
    "    root.left.right = Node(2)\n",
    "    return root\n",
    "\n",
    "root = create_binary_tree()\n",
    "node_count = count_nodes(root)\n",
    "index = 0\n",
    "\n",
    "if is_complete(root, index, node_count):\n",
    "    print(\"The tree is a complete binary tree\")\n",
    "else:\n",
    "    print(\"The tree is not a complete binary tree\")"
   ]
  },
  {
   "cell_type": "markdown",
   "id": "300ec01e-c56c-4158-826b-9ac2bfa36736",
   "metadata": {},
   "source": [
    "* #### Check Tree Graph"
   ]
  },
  {
   "cell_type": "code",
   "execution_count": 5,
   "id": "ef736bc8-c36c-4c83-a0f2-d5ac24434eab",
   "metadata": {
    "execution": {
     "iopub.execute_input": "2022-10-02T13:13:01.725427Z",
     "iopub.status.busy": "2022-10-02T13:13:01.724429Z",
     "iopub.status.idle": "2022-10-02T13:13:01.833458Z",
     "shell.execute_reply": "2022-10-02T13:13:01.832458Z",
     "shell.execute_reply.started": "2022-10-02T13:13:01.725427Z"
    },
    "tags": []
   },
   "outputs": [
    {
     "name": "stdout",
     "output_type": "stream",
     "text": [
      "Binary tree from list : \n",
      "  __3\n",
      " /   \\\n",
      "1     4\n",
      " \\\n",
      "  2\n",
      "\n"
     ]
    }
   ],
   "source": [
    "from binarytree import build\n",
    "# List of nodes\n",
    "nodes =[3,1,4,None, 2]\n",
    "  \n",
    "# Building the binary tree\n",
    "binary_tree = build(nodes)\n",
    "print('Binary tree from list :', binary_tree)"
   ]
  },
  {
   "cell_type": "code",
   "execution_count": 6,
   "id": "98999ce0-c219-4a2e-9ecc-76135700e1bf",
   "metadata": {
    "execution": {
     "iopub.execute_input": "2022-10-02T13:13:01.838454Z",
     "iopub.status.busy": "2022-10-02T13:13:01.837455Z",
     "iopub.status.idle": "2022-10-02T13:13:01.865456Z",
     "shell.execute_reply": "2022-10-02T13:13:01.863467Z",
     "shell.execute_reply.started": "2022-10-02T13:13:01.838454Z"
    }
   },
   "outputs": [],
   "source": [
    "def test_solution():\n",
    "    try:\n",
    "        root = create_binary_tree()\n",
    "        res = Solution().kthSmallest(root, k=1)\n",
    "        ans = 1\n",
    "        assert res == ans\n",
    "        \n",
    "        print(\"\\033[92m All tests passed.\")\n",
    "        \n",
    "    except:\n",
    "        print(f'\\033[91m Result: {res}\\n Ans: {ans}\\n tests failed')"
   ]
  },
  {
   "cell_type": "code",
   "execution_count": 7,
   "id": "8af58390-ad62-4b0a-b8fd-c95b12170026",
   "metadata": {
    "execution": {
     "iopub.execute_input": "2022-10-02T13:13:01.869451Z",
     "iopub.status.busy": "2022-10-02T13:13:01.868452Z",
     "iopub.status.idle": "2022-10-02T13:13:01.884448Z",
     "shell.execute_reply": "2022-10-02T13:13:01.880448Z",
     "shell.execute_reply.started": "2022-10-02T13:13:01.869451Z"
    },
    "tags": []
   },
   "outputs": [
    {
     "name": "stdout",
     "output_type": "stream",
     "text": [
      "\u001b[92m All tests passed.\n"
     ]
    }
   ],
   "source": [
    "test_solution()"
   ]
  }
 ],
 "metadata": {
  "kernelspec": {
   "display_name": "Python 3 (ipykernel)",
   "language": "python",
   "name": "python3"
  },
  "language_info": {
   "codemirror_mode": {
    "name": "ipython",
    "version": 3
   },
   "file_extension": ".py",
   "mimetype": "text/x-python",
   "name": "python",
   "nbconvert_exporter": "python",
   "pygments_lexer": "ipython3",
   "version": "3.10.4"
  }
 },
 "nbformat": 4,
 "nbformat_minor": 5
}
