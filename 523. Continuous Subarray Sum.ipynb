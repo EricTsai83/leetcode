{
 "cells": [
  {
   "cell_type": "markdown",
   "metadata": {},
   "source": [
    "## 523. Continuous Subarray Sum\n",
    "* [Reference](https://leetcode.com/problems/continuous-subarray-sum/)\n",
    "* Difficulty: Medium\n",
    "---"
   ]
  },
  {
   "cell_type": "markdown",
   "metadata": {},
   "source": [
    "### Rule\n",
    "* Given an integer array nums and an integer k, return true if nums has a **good subarray** or false otherwise.\n",
    "\n",
    "A good subarray is a subarray where:\n",
    "* its length is at least two, and\n",
    "* the sum of the elements of the subarray is a multiple of k.\n",
    "\n",
    "**Note** that:\n",
    "* A **subarray** is a contiguous part of the array.\n",
    "* An integer `x` is a multiple of `k` if there exists an integer n such that `x = n * k`. `0` is **always** a multiple of k.\n",
    "---\n"
   ]
  },
  {
   "cell_type": "markdown",
   "metadata": {},
   "source": [
    "#### Example 1:\n",
    "```\n",
    "Input: nums = [23,2,4,6,7], k = 6\n",
    "Output: true\n",
    "Explanation: [2, 4] is a continuous subarray of size 2 whose elements sum up to 6.\n",
    "```\n",
    "#### Example 2:\n",
    "```\n",
    "Input: nums = [23,2,6,4,7], k = 6\n",
    "Output: true\n",
    "Explanation: [23, 2, 6, 4, 7] is an continuous subarray of size 5 whose elements sum up to 42.\n",
    "42 is a multiple of 6 because 42 = 7 * 6 and 7 is an integer.\n",
    "```\n",
    "#### Example 3:\n",
    "```\n",
    "Input: nums = [23,2,6,4,7], k = 13\n",
    "Output: false\n",
    "```\n",
    "#### Constraints:\n",
    "* 1 <= nums.length <= 105\n",
    "* 0 <= nums[i] <= 109\n",
    "* 0 <= sum(nums[i]) <= 231 - 1\n",
    "* 1 <= k <= 231 - 1"
   ]
  },
  {
   "cell_type": "markdown",
   "metadata": {},
   "source": [
    "### Solution\n",
    "#### For Leetcode"
   ]
  },
  {
   "cell_type": "code",
   "execution_count": 1,
   "metadata": {},
   "outputs": [],
   "source": [
    "class Solution:\n",
    "    def checkSubarraySum(self, nums: list[int], k: int) -> bool:\n",
    "        for i in range(len(nums)):\n",
    "            t = i\n",
    "            while t >= 1:\n",
    "                sum_val = nums[t-1:i+1]\n",
    "                if len(sum_val) >=2 and sum(sum_val)%k == 0:\n",
    "                    return True\n",
    "                t -= 1\n",
    "        return False\n",
    "\n",
    "\n"
   ]
  },
  {
   "cell_type": "code",
   "execution_count": 2,
   "metadata": {},
   "outputs": [],
   "source": [
    "assert Solution().checkSubarraySum(nums=[23,2,4,6,7], k=6)  == True\n",
    "assert Solution().checkSubarraySum(nums=[23,2,6,4,7], k=6) == True\n",
    "assert Solution().checkSubarraySum(nums=[23,2,6,4,7], k=13) == False\n",
    "assert Solution().checkSubarraySum(nums=[0], k=13) == False\n",
    "assert Solution().checkSubarraySum(nums=[0, 0], k=6) == True\n"
   ]
  },
  {
   "cell_type": "code",
   "execution_count": 3,
   "metadata": {},
   "outputs": [],
   "source": [
    "class Solution:\n",
    "    def checkSubarraySum(self, nums: list[int], k: int) -> bool:\n",
    "        if sum(nums) == 0 and len(nums) >=2:\n",
    "            return True\n",
    "        # 多建一個 index 為 -1 且餘數為 0 的 element。因為我們要做的事，是找出前後相同的餘數 idx，\n",
    "        # 讓我們知道兩 index 中間(不包含)的 element 相加除以 k 餘數會為 0\n",
    "        dic = {0:-1}\n",
    "        s = 0\n",
    "        for idx, num in enumerate(nums):\n",
    "            s += num\n",
    "            remainder = s % k\n",
    "            if remainder not in dic:\n",
    "                dic[remainder] = idx  # remainder 出現的位置\n",
    "            elif dic[remainder] + 2 <= idx:  # 之前餘數的 index 至少要小於現在 index 兩個位置以上\n",
    "                return True\n",
    "        return False"
   ]
  },
  {
   "cell_type": "code",
   "execution_count": 4,
   "metadata": {},
   "outputs": [],
   "source": [
    "def test_solution():\n",
    "    assert Solution().checkSubarraySum(nums=[23,2,4,6,7], k=6)  == True\n",
    "    assert Solution().checkSubarraySum(nums=[23,2,6,4,7], k=6) == True\n",
    "    assert Solution().checkSubarraySum(nums=[23,2,6,4,7], k=13) == False\n",
    "    assert Solution().checkSubarraySum(nums=[0], k=13) == False\n",
    "    assert Solution().checkSubarraySum(nums=[0, 0], k=6) == True\n",
    "    assert Solution().checkSubarraySum(nums=[23,2,4,6,6], k=7) == True\n",
    "\n",
    "test_solution()"
   ]
  }
 ],
 "metadata": {
  "interpreter": {
   "hash": "31f2aee4e71d21fbe5cf8b01ff0e069b9275f58929596ceb00d14d90e3e16cd6"
  },
  "kernelspec": {
   "display_name": "Python 3.9.6 64-bit",
   "language": "python",
   "name": "python3"
  },
  "language_info": {
   "codemirror_mode": {
    "name": "ipython",
    "version": 3
   },
   "file_extension": ".py",
   "mimetype": "text/x-python",
   "name": "python",
   "nbconvert_exporter": "python",
   "pygments_lexer": "ipython3",
   "version": "3.9.6"
  },
  "orig_nbformat": 4
 },
 "nbformat": 4,
 "nbformat_minor": 2
}
