{
 "cells": [
  {
   "cell_type": "markdown",
   "id": "567838bb",
   "metadata": {},
   "source": [
    "### Longest Substring Without Repeating Characters\n",
    "* [Reference](https://leetcode.com/problems/longest-substring-without-repeating-characters/)\n",
    "* Difficulty: Medium\n",
    "---"
   ]
  },
  {
   "cell_type": "markdown",
   "id": "082711eb",
   "metadata": {},
   "source": [
    "### Rule\n",
    "* Given a string `s`, find the length of the **longest substring** without repeating characters.\n",
    "---"
   ]
  },
  {
   "cell_type": "markdown",
   "id": "554cacbb",
   "metadata": {},
   "source": [
    "#### Example 1:\n",
    "```\n",
    "Input: s = \"abcabcbb\"\n",
    "Output: 3\n",
    "Explanation: The answer is \"abc\", with the length of 3.\n",
    "```\n",
    "\n",
    "#### Example 2:\n",
    "```\n",
    "Input: s = \"bbbbb\"\n",
    "Output: 1\n",
    "Explanation: The answer is \"b\", with the length of 1.\n",
    "```\n",
    "\n",
    "#### Example 3:\n",
    "```\n",
    "Input: s = \"pwwkew\"\n",
    "Output: 3\n",
    "Explanation: The answer is \"wke\", with the length of 3.\n",
    "Notice that the answer must be a substring, \"pwke\" is a subsequence and not a substring.\n",
    "```\n",
    "---"
   ]
  },
  {
   "cell_type": "markdown",
   "id": "bf17c4dc",
   "metadata": {},
   "source": [
    "#### Constraints:\n",
    "* 0 <= s.length <= 5 * 104\n",
    "* s consists of English letters, digits, symbols and spaces.\n",
    "---"
   ]
  },
  {
   "cell_type": "markdown",
   "id": "1a918a58",
   "metadata": {},
   "source": [
    "### Solution\n",
    "#### For Leetcode"
   ]
  },
  {
   "cell_type": "code",
   "execution_count": 1,
   "id": "46469dee",
   "metadata": {
    "execution": {
     "iopub.execute_input": "2022-03-01T14:23:13.327374Z",
     "iopub.status.busy": "2022-03-01T14:23:13.326360Z",
     "iopub.status.idle": "2022-03-01T14:23:13.362354Z",
     "shell.execute_reply": "2022-03-01T14:23:13.360355Z",
     "shell.execute_reply.started": "2022-03-01T14:23:13.326360Z"
    }
   },
   "outputs": [],
   "source": [
    "class Solution:\n",
    "    def lengthOfLongestSubstring(self, s: str):\n",
    "        ls = ''\n",
    "        cs = ''\n",
    "        idx = 0\n",
    "        hash_table = {}\n",
    "        \n",
    "        while idx < len(s):\n",
    "            if s[idx] not in cs:\n",
    "                cs += s[idx]\n",
    "            else:\n",
    "                if len(cs) > len(ls):\n",
    "                    ls = cs\n",
    "                else:\n",
    "                    pass\n",
    "                cs = s[hash_table[s[idx]]+1:idx+1]\n",
    "                \n",
    "            hash_table[s[idx]] = idx\n",
    "            idx += 1\n",
    "            \n",
    "        if len(cs) > len(ls):\n",
    "            return len(cs)\n",
    "        else: \n",
    "            return len(ls)"
   ]
  },
  {
   "cell_type": "code",
   "execution_count": 2,
   "id": "2be95278",
   "metadata": {
    "execution": {
     "iopub.execute_input": "2022-03-01T14:23:13.365354Z",
     "iopub.status.busy": "2022-03-01T14:23:13.365354Z",
     "iopub.status.idle": "2022-03-01T14:23:13.410346Z",
     "shell.execute_reply": "2022-03-01T14:23:13.408347Z",
     "shell.execute_reply.started": "2022-03-01T14:23:13.365354Z"
    }
   },
   "outputs": [
    {
     "data": {
      "text/plain": [
       "3"
      ]
     },
     "execution_count": 2,
     "metadata": {},
     "output_type": "execute_result"
    }
   ],
   "source": [
    "s = 'abcabcbb'\n",
    "Solution().lengthOfLongestSubstring(s)"
   ]
  },
  {
   "cell_type": "code",
   "execution_count": 3,
   "id": "6e1dde12",
   "metadata": {
    "execution": {
     "iopub.execute_input": "2022-03-01T14:23:13.413347Z",
     "iopub.status.busy": "2022-03-01T14:23:13.412347Z",
     "iopub.status.idle": "2022-03-01T14:23:13.441342Z",
     "shell.execute_reply": "2022-03-01T14:23:13.439343Z",
     "shell.execute_reply.started": "2022-03-01T14:23:13.413347Z"
    }
   },
   "outputs": [
    {
     "data": {
      "text/plain": [
       "1"
      ]
     },
     "execution_count": 3,
     "metadata": {},
     "output_type": "execute_result"
    }
   ],
   "source": [
    "s = 'bbbbb'\n",
    "Solution().lengthOfLongestSubstring(s)"
   ]
  },
  {
   "cell_type": "code",
   "execution_count": 4,
   "id": "ae423981",
   "metadata": {
    "execution": {
     "iopub.execute_input": "2022-03-01T14:23:13.444342Z",
     "iopub.status.busy": "2022-03-01T14:23:13.443341Z",
     "iopub.status.idle": "2022-03-01T14:23:13.457340Z",
     "shell.execute_reply": "2022-03-01T14:23:13.455340Z",
     "shell.execute_reply.started": "2022-03-01T14:23:13.444342Z"
    }
   },
   "outputs": [
    {
     "data": {
      "text/plain": [
       "3"
      ]
     },
     "execution_count": 4,
     "metadata": {},
     "output_type": "execute_result"
    }
   ],
   "source": [
    "s = 'pwwkew'\n",
    "Solution().lengthOfLongestSubstring(s)"
   ]
  },
  {
   "cell_type": "code",
   "execution_count": 5,
   "id": "41a8ed6a",
   "metadata": {
    "execution": {
     "iopub.execute_input": "2022-03-01T14:23:13.460340Z",
     "iopub.status.busy": "2022-03-01T14:23:13.459339Z",
     "iopub.status.idle": "2022-03-01T14:23:13.472338Z",
     "shell.execute_reply": "2022-03-01T14:23:13.470338Z",
     "shell.execute_reply.started": "2022-03-01T14:23:13.460340Z"
    }
   },
   "outputs": [
    {
     "data": {
      "text/plain": [
       "1"
      ]
     },
     "execution_count": 5,
     "metadata": {},
     "output_type": "execute_result"
    }
   ],
   "source": [
    "s = ' '\n",
    "Solution().lengthOfLongestSubstring(s)"
   ]
  },
  {
   "cell_type": "code",
   "execution_count": 6,
   "id": "03ca8834",
   "metadata": {
    "execution": {
     "iopub.execute_input": "2022-03-01T14:23:13.475338Z",
     "iopub.status.busy": "2022-03-01T14:23:13.474337Z",
     "iopub.status.idle": "2022-03-01T14:23:13.486335Z",
     "shell.execute_reply": "2022-03-01T14:23:13.485335Z",
     "shell.execute_reply.started": "2022-03-01T14:23:13.474337Z"
    }
   },
   "outputs": [
    {
     "data": {
      "text/plain": [
       "4"
      ]
     },
     "execution_count": 6,
     "metadata": {},
     "output_type": "execute_result"
    }
   ],
   "source": [
    "s = 'jbpnbwwd'\n",
    "Solution().lengthOfLongestSubstring(s)"
   ]
  },
  {
   "cell_type": "code",
   "execution_count": 7,
   "id": "6652558f",
   "metadata": {
    "execution": {
     "iopub.execute_input": "2022-03-01T14:23:13.491334Z",
     "iopub.status.busy": "2022-03-01T14:23:13.489335Z",
     "iopub.status.idle": "2022-03-01T14:23:13.518331Z",
     "shell.execute_reply": "2022-03-01T14:23:13.516331Z",
     "shell.execute_reply.started": "2022-03-01T14:23:13.491334Z"
    }
   },
   "outputs": [
    {
     "data": {
      "text/plain": [
       "2"
      ]
     },
     "execution_count": 7,
     "metadata": {},
     "output_type": "execute_result"
    }
   ],
   "source": [
    "s = 'cdd'\n",
    "Solution().lengthOfLongestSubstring(s)"
   ]
  },
  {
   "cell_type": "markdown",
   "id": "fa5b9fd6",
   "metadata": {},
   "source": [
    "### For Real World Problems\n",
    "Actually, I have no idea how to use. If someone knew, please tell me."
   ]
  },
  {
   "cell_type": "code",
   "execution_count": 8,
   "id": "74a496ca",
   "metadata": {
    "execution": {
     "iopub.execute_input": "2022-03-01T14:23:13.521331Z",
     "iopub.status.busy": "2022-03-01T14:23:13.520330Z",
     "iopub.status.idle": "2022-03-01T14:23:13.549326Z",
     "shell.execute_reply": "2022-03-01T14:23:13.548327Z",
     "shell.execute_reply.started": "2022-03-01T14:23:13.521331Z"
    },
    "tags": []
   },
   "outputs": [],
   "source": [
    "class StringUtils:\n",
    "    def find_longest_substring(self, s: str):\n",
    "        ls = ''\n",
    "        cs = ''\n",
    "        idx = 0\n",
    "        hash_table = {}\n",
    "        \n",
    "        while idx < len(s):\n",
    "            if s[idx] not in cs:\n",
    "                cs += s[idx]\n",
    "            else:\n",
    "                if len(cs) > len(ls):\n",
    "                    ls = cs\n",
    "                else:\n",
    "                    pass\n",
    "                cs = s[hash_table[s[idx]]+1:idx+1]\n",
    "                \n",
    "            hash_table[s[idx]] = idx\n",
    "            idx += 1\n",
    "            \n",
    "        if len(cs) > len(ls):\n",
    "            return len(cs), cs\n",
    "        else: \n",
    "            return len(ls), ls"
   ]
  },
  {
   "cell_type": "code",
   "execution_count": 9,
   "id": "36e40b68",
   "metadata": {
    "execution": {
     "iopub.execute_input": "2022-03-01T14:23:13.553325Z",
     "iopub.status.busy": "2022-03-01T14:23:13.552327Z",
     "iopub.status.idle": "2022-03-01T14:23:13.565324Z",
     "shell.execute_reply": "2022-03-01T14:23:13.564328Z",
     "shell.execute_reply.started": "2022-03-01T14:23:13.552327Z"
    },
    "tags": []
   },
   "outputs": [
    {
     "data": {
      "text/plain": [
       "(3, 'abc')"
      ]
     },
     "execution_count": 9,
     "metadata": {},
     "output_type": "execute_result"
    }
   ],
   "source": [
    "s = 'abcabcbb'\n",
    "StringUtils().find_longest_substring(s)"
   ]
  }
 ],
 "metadata": {
  "kernelspec": {
   "display_name": "Python 3",
   "language": "python",
   "name": "python3"
  },
  "language_info": {
   "codemirror_mode": {
    "name": "ipython",
    "version": 3
   },
   "file_extension": ".py",
   "mimetype": "text/x-python",
   "name": "python",
   "nbconvert_exporter": "python",
   "pygments_lexer": "ipython3",
   "version": "3.7.9"
  }
 },
 "nbformat": 4,
 "nbformat_minor": 5
}
